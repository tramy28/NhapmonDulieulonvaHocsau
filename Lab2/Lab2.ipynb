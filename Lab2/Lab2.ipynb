{
 "cells": [
  {
   "cell_type": "markdown",
   "metadata": {},
   "source": [
    "### **LAB 2: THỰC HÀNH TRÌNH BÀY DỮ LIỆU**"
   ]
  },
  {
   "cell_type": "code",
   "execution_count": 62,
   "metadata": {},
   "outputs": [],
   "source": [
    "import pandas as pd\n",
    "import numpy as np\n",
    "import matplotlib.pyplot as plt\n",
    "import scipy.stats as stats\n"
   ]
  },
  {
   "cell_type": "code",
   "execution_count": 37,
   "metadata": {},
   "outputs": [],
   "source": [
    "#Đọc dữ liệu đầu vào\n",
    "data = pd.read_csv(\"processed_dulieuxettuyendaihoc.csv\")"
   ]
  },
  {
   "cell_type": "code",
   "execution_count": 38,
   "metadata": {},
   "outputs": [
    {
     "data": {
      "text/html": [
       "<div>\n",
       "<style scoped>\n",
       "    .dataframe tbody tr th:only-of-type {\n",
       "        vertical-align: middle;\n",
       "    }\n",
       "\n",
       "    .dataframe tbody tr th {\n",
       "        vertical-align: top;\n",
       "    }\n",
       "\n",
       "    .dataframe thead th {\n",
       "        text-align: right;\n",
       "    }\n",
       "</style>\n",
       "<table border=\"1\" class=\"dataframe\">\n",
       "  <thead>\n",
       "    <tr style=\"text-align: right;\">\n",
       "      <th></th>\n",
       "      <th>T1</th>\n",
       "      <th>L1</th>\n",
       "      <th>H1</th>\n",
       "      <th>S1</th>\n",
       "      <th>V1</th>\n",
       "      <th>X1</th>\n",
       "      <th>D1</th>\n",
       "      <th>N1</th>\n",
       "      <th>T2</th>\n",
       "      <th>L2</th>\n",
       "      <th>...</th>\n",
       "      <th>TBM1</th>\n",
       "      <th>TBM2</th>\n",
       "      <th>TBM3</th>\n",
       "      <th>XL1</th>\n",
       "      <th>XL2</th>\n",
       "      <th>XL3</th>\n",
       "      <th>US_TBM1</th>\n",
       "      <th>US_TBM2</th>\n",
       "      <th>US_TBM3</th>\n",
       "      <th>KQXT</th>\n",
       "    </tr>\n",
       "  </thead>\n",
       "  <tbody>\n",
       "    <tr>\n",
       "      <th>0</th>\n",
       "      <td>7.2</td>\n",
       "      <td>7.3</td>\n",
       "      <td>6.3</td>\n",
       "      <td>7.3</td>\n",
       "      <td>7.0</td>\n",
       "      <td>7.9</td>\n",
       "      <td>7.3</td>\n",
       "      <td>5.5</td>\n",
       "      <td>8.4</td>\n",
       "      <td>8.9</td>\n",
       "      <td>...</td>\n",
       "      <td>7.00</td>\n",
       "      <td>7.54</td>\n",
       "      <td>7.06</td>\n",
       "      <td>K</td>\n",
       "      <td>K</td>\n",
       "      <td>K</td>\n",
       "      <td>2.705882</td>\n",
       "      <td>3.159664</td>\n",
       "      <td>2.756303</td>\n",
       "      <td>NaN</td>\n",
       "    </tr>\n",
       "    <tr>\n",
       "      <th>1</th>\n",
       "      <td>5.4</td>\n",
       "      <td>3.9</td>\n",
       "      <td>3.9</td>\n",
       "      <td>4.0</td>\n",
       "      <td>5.4</td>\n",
       "      <td>5.4</td>\n",
       "      <td>5.3</td>\n",
       "      <td>2.8</td>\n",
       "      <td>6.3</td>\n",
       "      <td>5.4</td>\n",
       "      <td>...</td>\n",
       "      <td>4.69</td>\n",
       "      <td>5.47</td>\n",
       "      <td>4.70</td>\n",
       "      <td>Y</td>\n",
       "      <td>TB</td>\n",
       "      <td>Y</td>\n",
       "      <td>0.764706</td>\n",
       "      <td>1.420168</td>\n",
       "      <td>0.773109</td>\n",
       "      <td>NaN</td>\n",
       "    </tr>\n",
       "    <tr>\n",
       "      <th>2</th>\n",
       "      <td>5.6</td>\n",
       "      <td>6.8</td>\n",
       "      <td>7.2</td>\n",
       "      <td>7.5</td>\n",
       "      <td>4.3</td>\n",
       "      <td>7.4</td>\n",
       "      <td>5.8</td>\n",
       "      <td>3.2</td>\n",
       "      <td>5.0</td>\n",
       "      <td>4.9</td>\n",
       "      <td>...</td>\n",
       "      <td>5.77</td>\n",
       "      <td>5.38</td>\n",
       "      <td>4.33</td>\n",
       "      <td>TB</td>\n",
       "      <td>TB</td>\n",
       "      <td>Y</td>\n",
       "      <td>1.672269</td>\n",
       "      <td>1.344538</td>\n",
       "      <td>0.462185</td>\n",
       "      <td>1.0</td>\n",
       "    </tr>\n",
       "    <tr>\n",
       "      <th>3</th>\n",
       "      <td>6.6</td>\n",
       "      <td>6.4</td>\n",
       "      <td>5.3</td>\n",
       "      <td>6.9</td>\n",
       "      <td>5.4</td>\n",
       "      <td>7.3</td>\n",
       "      <td>6.4</td>\n",
       "      <td>5.8</td>\n",
       "      <td>5.1</td>\n",
       "      <td>6.2</td>\n",
       "      <td>...</td>\n",
       "      <td>6.21</td>\n",
       "      <td>5.20</td>\n",
       "      <td>6.03</td>\n",
       "      <td>TB</td>\n",
       "      <td>TB</td>\n",
       "      <td>TB</td>\n",
       "      <td>2.042017</td>\n",
       "      <td>1.193277</td>\n",
       "      <td>1.890756</td>\n",
       "      <td>NaN</td>\n",
       "    </tr>\n",
       "    <tr>\n",
       "      <th>4</th>\n",
       "      <td>6.0</td>\n",
       "      <td>5.0</td>\n",
       "      <td>6.0</td>\n",
       "      <td>7.3</td>\n",
       "      <td>6.5</td>\n",
       "      <td>7.7</td>\n",
       "      <td>7.9</td>\n",
       "      <td>6.1</td>\n",
       "      <td>5.4</td>\n",
       "      <td>5.5</td>\n",
       "      <td>...</td>\n",
       "      <td>6.50</td>\n",
       "      <td>6.36</td>\n",
       "      <td>7.01</td>\n",
       "      <td>K</td>\n",
       "      <td>TB</td>\n",
       "      <td>K</td>\n",
       "      <td>2.285714</td>\n",
       "      <td>2.168067</td>\n",
       "      <td>2.714286</td>\n",
       "      <td>NaN</td>\n",
       "    </tr>\n",
       "    <tr>\n",
       "      <th>5</th>\n",
       "      <td>9.3</td>\n",
       "      <td>7.6</td>\n",
       "      <td>7.9</td>\n",
       "      <td>8.6</td>\n",
       "      <td>7.0</td>\n",
       "      <td>7.3</td>\n",
       "      <td>7.7</td>\n",
       "      <td>7.9</td>\n",
       "      <td>9.6</td>\n",
       "      <td>7.8</td>\n",
       "      <td>...</td>\n",
       "      <td>7.96</td>\n",
       "      <td>8.54</td>\n",
       "      <td>7.82</td>\n",
       "      <td>K</td>\n",
       "      <td>G</td>\n",
       "      <td>K</td>\n",
       "      <td>3.512605</td>\n",
       "      <td>4.000000</td>\n",
       "      <td>3.394958</td>\n",
       "      <td>NaN</td>\n",
       "    </tr>\n",
       "    <tr>\n",
       "      <th>6</th>\n",
       "      <td>2.8</td>\n",
       "      <td>3.9</td>\n",
       "      <td>5.5</td>\n",
       "      <td>6.9</td>\n",
       "      <td>5.0</td>\n",
       "      <td>7.3</td>\n",
       "      <td>4.6</td>\n",
       "      <td>5.2</td>\n",
       "      <td>4.4</td>\n",
       "      <td>6.7</td>\n",
       "      <td>...</td>\n",
       "      <td>4.90</td>\n",
       "      <td>5.60</td>\n",
       "      <td>5.24</td>\n",
       "      <td>Y</td>\n",
       "      <td>TB</td>\n",
       "      <td>TB</td>\n",
       "      <td>0.941176</td>\n",
       "      <td>1.529412</td>\n",
       "      <td>1.226891</td>\n",
       "      <td>1.0</td>\n",
       "    </tr>\n",
       "    <tr>\n",
       "      <th>7</th>\n",
       "      <td>8.3</td>\n",
       "      <td>6.0</td>\n",
       "      <td>7.6</td>\n",
       "      <td>5.1</td>\n",
       "      <td>7.5</td>\n",
       "      <td>4.7</td>\n",
       "      <td>5.8</td>\n",
       "      <td>7.2</td>\n",
       "      <td>6.7</td>\n",
       "      <td>6.3</td>\n",
       "      <td>...</td>\n",
       "      <td>6.80</td>\n",
       "      <td>6.87</td>\n",
       "      <td>6.95</td>\n",
       "      <td>K</td>\n",
       "      <td>K</td>\n",
       "      <td>K</td>\n",
       "      <td>2.537815</td>\n",
       "      <td>2.596639</td>\n",
       "      <td>2.663866</td>\n",
       "      <td>NaN</td>\n",
       "    </tr>\n",
       "    <tr>\n",
       "      <th>8</th>\n",
       "      <td>6.5</td>\n",
       "      <td>6.3</td>\n",
       "      <td>7.6</td>\n",
       "      <td>6.0</td>\n",
       "      <td>5.5</td>\n",
       "      <td>7.1</td>\n",
       "      <td>6.3</td>\n",
       "      <td>5.0</td>\n",
       "      <td>7.3</td>\n",
       "      <td>6.8</td>\n",
       "      <td>...</td>\n",
       "      <td>6.23</td>\n",
       "      <td>6.72</td>\n",
       "      <td>6.59</td>\n",
       "      <td>TB</td>\n",
       "      <td>K</td>\n",
       "      <td>K</td>\n",
       "      <td>2.058824</td>\n",
       "      <td>2.470588</td>\n",
       "      <td>2.361345</td>\n",
       "      <td>NaN</td>\n",
       "    </tr>\n",
       "    <tr>\n",
       "      <th>9</th>\n",
       "      <td>7.3</td>\n",
       "      <td>5.9</td>\n",
       "      <td>4.7</td>\n",
       "      <td>7.1</td>\n",
       "      <td>6.7</td>\n",
       "      <td>7.9</td>\n",
       "      <td>6.7</td>\n",
       "      <td>7.7</td>\n",
       "      <td>8.0</td>\n",
       "      <td>6.8</td>\n",
       "      <td>...</td>\n",
       "      <td>6.80</td>\n",
       "      <td>7.25</td>\n",
       "      <td>7.12</td>\n",
       "      <td>K</td>\n",
       "      <td>K</td>\n",
       "      <td>K</td>\n",
       "      <td>2.537815</td>\n",
       "      <td>2.915966</td>\n",
       "      <td>2.806723</td>\n",
       "      <td>NaN</td>\n",
       "    </tr>\n",
       "  </tbody>\n",
       "</table>\n",
       "<p>10 rows × 65 columns</p>\n",
       "</div>"
      ],
      "text/plain": [
       "    T1   L1   H1   S1   V1   X1   D1   N1   T2   L2  ...  TBM1  TBM2  TBM3  \\\n",
       "0  7.2  7.3  6.3  7.3  7.0  7.9  7.3  5.5  8.4  8.9  ...  7.00  7.54  7.06   \n",
       "1  5.4  3.9  3.9  4.0  5.4  5.4  5.3  2.8  6.3  5.4  ...  4.69  5.47  4.70   \n",
       "2  5.6  6.8  7.2  7.5  4.3  7.4  5.8  3.2  5.0  4.9  ...  5.77  5.38  4.33   \n",
       "3  6.6  6.4  5.3  6.9  5.4  7.3  6.4  5.8  5.1  6.2  ...  6.21  5.20  6.03   \n",
       "4  6.0  5.0  6.0  7.3  6.5  7.7  7.9  6.1  5.4  5.5  ...  6.50  6.36  7.01   \n",
       "5  9.3  7.6  7.9  8.6  7.0  7.3  7.7  7.9  9.6  7.8  ...  7.96  8.54  7.82   \n",
       "6  2.8  3.9  5.5  6.9  5.0  7.3  4.6  5.2  4.4  6.7  ...  4.90  5.60  5.24   \n",
       "7  8.3  6.0  7.6  5.1  7.5  4.7  5.8  7.2  6.7  6.3  ...  6.80  6.87  6.95   \n",
       "8  6.5  6.3  7.6  6.0  5.5  7.1  6.3  5.0  7.3  6.8  ...  6.23  6.72  6.59   \n",
       "9  7.3  5.9  4.7  7.1  6.7  7.9  6.7  7.7  8.0  6.8  ...  6.80  7.25  7.12   \n",
       "\n",
       "   XL1  XL2  XL3   US_TBM1   US_TBM2   US_TBM3  KQXT  \n",
       "0    K    K    K  2.705882  3.159664  2.756303   NaN  \n",
       "1    Y   TB    Y  0.764706  1.420168  0.773109   NaN  \n",
       "2   TB   TB    Y  1.672269  1.344538  0.462185   1.0  \n",
       "3   TB   TB   TB  2.042017  1.193277  1.890756   NaN  \n",
       "4    K   TB    K  2.285714  2.168067  2.714286   NaN  \n",
       "5    K    G    K  3.512605  4.000000  3.394958   NaN  \n",
       "6    Y   TB   TB  0.941176  1.529412  1.226891   1.0  \n",
       "7    K    K    K  2.537815  2.596639  2.663866   NaN  \n",
       "8   TB    K    K  2.058824  2.470588  2.361345   NaN  \n",
       "9    K    K    K  2.537815  2.915966  2.806723   NaN  \n",
       "\n",
       "[10 rows x 65 columns]"
      ]
     },
     "execution_count": 38,
     "metadata": {},
     "output_type": "execute_result"
    }
   ],
   "source": [
    "data.head(10) #In 10 dòng đầu trong dữ liệu"
   ]
  },
  {
   "cell_type": "markdown",
   "metadata": {},
   "source": [
    "### Phần 1: Thống kê dữ liệu"
   ]
  },
  {
   "cell_type": "markdown",
   "metadata": {},
   "source": [
    "1. Sắp xếp dữ liệu DH1 theo thứ tự tăng dần"
   ]
  },
  {
   "cell_type": "code",
   "execution_count": 4,
   "metadata": {},
   "outputs": [
    {
     "data": {
      "text/html": [
       "<div>\n",
       "<style scoped>\n",
       "    .dataframe tbody tr th:only-of-type {\n",
       "        vertical-align: middle;\n",
       "    }\n",
       "\n",
       "    .dataframe tbody tr th {\n",
       "        vertical-align: top;\n",
       "    }\n",
       "\n",
       "    .dataframe thead th {\n",
       "        text-align: right;\n",
       "    }\n",
       "</style>\n",
       "<table border=\"1\" class=\"dataframe\">\n",
       "  <thead>\n",
       "    <tr style=\"text-align: right;\">\n",
       "      <th></th>\n",
       "      <th>T1</th>\n",
       "      <th>L1</th>\n",
       "      <th>H1</th>\n",
       "      <th>S1</th>\n",
       "      <th>V1</th>\n",
       "      <th>X1</th>\n",
       "      <th>D1</th>\n",
       "      <th>N1</th>\n",
       "      <th>T2</th>\n",
       "      <th>L2</th>\n",
       "      <th>...</th>\n",
       "      <th>TBM1</th>\n",
       "      <th>TBM2</th>\n",
       "      <th>TBM3</th>\n",
       "      <th>XL1</th>\n",
       "      <th>XL2</th>\n",
       "      <th>XL3</th>\n",
       "      <th>US_TBM1</th>\n",
       "      <th>US_TBM2</th>\n",
       "      <th>US_TBM3</th>\n",
       "      <th>KQXT</th>\n",
       "    </tr>\n",
       "  </thead>\n",
       "  <tbody>\n",
       "    <tr>\n",
       "      <th>53</th>\n",
       "      <td>4.9</td>\n",
       "      <td>5.9</td>\n",
       "      <td>6.2</td>\n",
       "      <td>5.6</td>\n",
       "      <td>5.9</td>\n",
       "      <td>5.0</td>\n",
       "      <td>7.0</td>\n",
       "      <td>5.6</td>\n",
       "      <td>6.1</td>\n",
       "      <td>7.1</td>\n",
       "      <td>...</td>\n",
       "      <td>5.69</td>\n",
       "      <td>6.26</td>\n",
       "      <td>4.07</td>\n",
       "      <td>TB</td>\n",
       "      <td>TB</td>\n",
       "      <td>Y</td>\n",
       "      <td>1.605042</td>\n",
       "      <td>2.084034</td>\n",
       "      <td>0.243697</td>\n",
       "      <td>NaN</td>\n",
       "    </tr>\n",
       "    <tr>\n",
       "      <th>43</th>\n",
       "      <td>6.6</td>\n",
       "      <td>7.2</td>\n",
       "      <td>5.9</td>\n",
       "      <td>6.9</td>\n",
       "      <td>7.6</td>\n",
       "      <td>8.1</td>\n",
       "      <td>7.3</td>\n",
       "      <td>6.7</td>\n",
       "      <td>6.3</td>\n",
       "      <td>6.9</td>\n",
       "      <td>...</td>\n",
       "      <td>7.05</td>\n",
       "      <td>6.61</td>\n",
       "      <td>6.56</td>\n",
       "      <td>K</td>\n",
       "      <td>K</td>\n",
       "      <td>K</td>\n",
       "      <td>2.747899</td>\n",
       "      <td>2.378151</td>\n",
       "      <td>2.336134</td>\n",
       "      <td>NaN</td>\n",
       "    </tr>\n",
       "    <tr>\n",
       "      <th>72</th>\n",
       "      <td>5.5</td>\n",
       "      <td>6.6</td>\n",
       "      <td>7.2</td>\n",
       "      <td>7.6</td>\n",
       "      <td>5.5</td>\n",
       "      <td>6.7</td>\n",
       "      <td>6.7</td>\n",
       "      <td>5.2</td>\n",
       "      <td>6.0</td>\n",
       "      <td>6.8</td>\n",
       "      <td>...</td>\n",
       "      <td>6.20</td>\n",
       "      <td>5.88</td>\n",
       "      <td>5.63</td>\n",
       "      <td>TB</td>\n",
       "      <td>TB</td>\n",
       "      <td>TB</td>\n",
       "      <td>2.033613</td>\n",
       "      <td>1.764706</td>\n",
       "      <td>1.554622</td>\n",
       "      <td>NaN</td>\n",
       "    </tr>\n",
       "    <tr>\n",
       "      <th>5</th>\n",
       "      <td>9.3</td>\n",
       "      <td>7.6</td>\n",
       "      <td>7.9</td>\n",
       "      <td>8.6</td>\n",
       "      <td>7.0</td>\n",
       "      <td>7.3</td>\n",
       "      <td>7.7</td>\n",
       "      <td>7.9</td>\n",
       "      <td>9.6</td>\n",
       "      <td>7.8</td>\n",
       "      <td>...</td>\n",
       "      <td>7.96</td>\n",
       "      <td>8.54</td>\n",
       "      <td>7.82</td>\n",
       "      <td>K</td>\n",
       "      <td>G</td>\n",
       "      <td>K</td>\n",
       "      <td>3.512605</td>\n",
       "      <td>4.000000</td>\n",
       "      <td>3.394958</td>\n",
       "      <td>NaN</td>\n",
       "    </tr>\n",
       "    <tr>\n",
       "      <th>87</th>\n",
       "      <td>7.3</td>\n",
       "      <td>4.3</td>\n",
       "      <td>5.3</td>\n",
       "      <td>5.8</td>\n",
       "      <td>4.9</td>\n",
       "      <td>3.7</td>\n",
       "      <td>5.6</td>\n",
       "      <td>5.3</td>\n",
       "      <td>5.9</td>\n",
       "      <td>6.0</td>\n",
       "      <td>...</td>\n",
       "      <td>5.44</td>\n",
       "      <td>5.78</td>\n",
       "      <td>6.51</td>\n",
       "      <td>TB</td>\n",
       "      <td>TB</td>\n",
       "      <td>K</td>\n",
       "      <td>1.394958</td>\n",
       "      <td>1.680672</td>\n",
       "      <td>2.294118</td>\n",
       "      <td>NaN</td>\n",
       "    </tr>\n",
       "    <tr>\n",
       "      <th>...</th>\n",
       "      <td>...</td>\n",
       "      <td>...</td>\n",
       "      <td>...</td>\n",
       "      <td>...</td>\n",
       "      <td>...</td>\n",
       "      <td>...</td>\n",
       "      <td>...</td>\n",
       "      <td>...</td>\n",
       "      <td>...</td>\n",
       "      <td>...</td>\n",
       "      <td>...</td>\n",
       "      <td>...</td>\n",
       "      <td>...</td>\n",
       "      <td>...</td>\n",
       "      <td>...</td>\n",
       "      <td>...</td>\n",
       "      <td>...</td>\n",
       "      <td>...</td>\n",
       "      <td>...</td>\n",
       "      <td>...</td>\n",
       "      <td>...</td>\n",
       "    </tr>\n",
       "    <tr>\n",
       "      <th>84</th>\n",
       "      <td>8.4</td>\n",
       "      <td>7.4</td>\n",
       "      <td>6.0</td>\n",
       "      <td>7.8</td>\n",
       "      <td>6.3</td>\n",
       "      <td>7.2</td>\n",
       "      <td>8.5</td>\n",
       "      <td>6.0</td>\n",
       "      <td>9.3</td>\n",
       "      <td>7.0</td>\n",
       "      <td>...</td>\n",
       "      <td>7.23</td>\n",
       "      <td>7.77</td>\n",
       "      <td>7.24</td>\n",
       "      <td>K</td>\n",
       "      <td>K</td>\n",
       "      <td>K</td>\n",
       "      <td>2.899160</td>\n",
       "      <td>3.352941</td>\n",
       "      <td>2.907563</td>\n",
       "      <td>1.0</td>\n",
       "    </tr>\n",
       "    <tr>\n",
       "      <th>11</th>\n",
       "      <td>7.9</td>\n",
       "      <td>7.0</td>\n",
       "      <td>9.1</td>\n",
       "      <td>8.6</td>\n",
       "      <td>6.1</td>\n",
       "      <td>7.0</td>\n",
       "      <td>5.6</td>\n",
       "      <td>9.0</td>\n",
       "      <td>8.2</td>\n",
       "      <td>7.1</td>\n",
       "      <td>...</td>\n",
       "      <td>7.43</td>\n",
       "      <td>7.72</td>\n",
       "      <td>7.49</td>\n",
       "      <td>K</td>\n",
       "      <td>K</td>\n",
       "      <td>K</td>\n",
       "      <td>3.067227</td>\n",
       "      <td>3.310924</td>\n",
       "      <td>3.117647</td>\n",
       "      <td>1.0</td>\n",
       "    </tr>\n",
       "    <tr>\n",
       "      <th>23</th>\n",
       "      <td>5.3</td>\n",
       "      <td>6.3</td>\n",
       "      <td>5.7</td>\n",
       "      <td>6.9</td>\n",
       "      <td>5.9</td>\n",
       "      <td>7.5</td>\n",
       "      <td>6.6</td>\n",
       "      <td>5.1</td>\n",
       "      <td>6.4</td>\n",
       "      <td>6.9</td>\n",
       "      <td>...</td>\n",
       "      <td>6.05</td>\n",
       "      <td>6.32</td>\n",
       "      <td>6.20</td>\n",
       "      <td>TB</td>\n",
       "      <td>TB</td>\n",
       "      <td>TB</td>\n",
       "      <td>1.907563</td>\n",
       "      <td>2.134454</td>\n",
       "      <td>2.033613</td>\n",
       "      <td>1.0</td>\n",
       "    </tr>\n",
       "    <tr>\n",
       "      <th>24</th>\n",
       "      <td>2.4</td>\n",
       "      <td>4.1</td>\n",
       "      <td>3.6</td>\n",
       "      <td>5.5</td>\n",
       "      <td>5.9</td>\n",
       "      <td>5.6</td>\n",
       "      <td>4.9</td>\n",
       "      <td>4.2</td>\n",
       "      <td>3.3</td>\n",
       "      <td>5.7</td>\n",
       "      <td>...</td>\n",
       "      <td>4.45</td>\n",
       "      <td>4.88</td>\n",
       "      <td>5.31</td>\n",
       "      <td>Y</td>\n",
       "      <td>Y</td>\n",
       "      <td>TB</td>\n",
       "      <td>0.563025</td>\n",
       "      <td>0.924370</td>\n",
       "      <td>1.285714</td>\n",
       "      <td>1.0</td>\n",
       "    </tr>\n",
       "    <tr>\n",
       "      <th>97</th>\n",
       "      <td>8.8</td>\n",
       "      <td>5.5</td>\n",
       "      <td>7.4</td>\n",
       "      <td>7.7</td>\n",
       "      <td>6.2</td>\n",
       "      <td>7.3</td>\n",
       "      <td>8.1</td>\n",
       "      <td>4.5</td>\n",
       "      <td>9.5</td>\n",
       "      <td>7.3</td>\n",
       "      <td>...</td>\n",
       "      <td>7.05</td>\n",
       "      <td>7.84</td>\n",
       "      <td>7.92</td>\n",
       "      <td>K</td>\n",
       "      <td>K</td>\n",
       "      <td>K</td>\n",
       "      <td>2.747899</td>\n",
       "      <td>3.411765</td>\n",
       "      <td>3.478992</td>\n",
       "      <td>1.0</td>\n",
       "    </tr>\n",
       "  </tbody>\n",
       "</table>\n",
       "<p>100 rows × 65 columns</p>\n",
       "</div>"
      ],
      "text/plain": [
       "     T1   L1   H1   S1   V1   X1   D1   N1   T2   L2  ...  TBM1  TBM2  TBM3  \\\n",
       "53  4.9  5.9  6.2  5.6  5.9  5.0  7.0  5.6  6.1  7.1  ...  5.69  6.26  4.07   \n",
       "43  6.6  7.2  5.9  6.9  7.6  8.1  7.3  6.7  6.3  6.9  ...  7.05  6.61  6.56   \n",
       "72  5.5  6.6  7.2  7.6  5.5  6.7  6.7  5.2  6.0  6.8  ...  6.20  5.88  5.63   \n",
       "5   9.3  7.6  7.9  8.6  7.0  7.3  7.7  7.9  9.6  7.8  ...  7.96  8.54  7.82   \n",
       "87  7.3  4.3  5.3  5.8  4.9  3.7  5.6  5.3  5.9  6.0  ...  5.44  5.78  6.51   \n",
       "..  ...  ...  ...  ...  ...  ...  ...  ...  ...  ...  ...   ...   ...   ...   \n",
       "84  8.4  7.4  6.0  7.8  6.3  7.2  8.5  6.0  9.3  7.0  ...  7.23  7.77  7.24   \n",
       "11  7.9  7.0  9.1  8.6  6.1  7.0  5.6  9.0  8.2  7.1  ...  7.43  7.72  7.49   \n",
       "23  5.3  6.3  5.7  6.9  5.9  7.5  6.6  5.1  6.4  6.9  ...  6.05  6.32  6.20   \n",
       "24  2.4  4.1  3.6  5.5  5.9  5.6  4.9  4.2  3.3  5.7  ...  4.45  4.88  5.31   \n",
       "97  8.8  5.5  7.4  7.7  6.2  7.3  8.1  4.5  9.5  7.3  ...  7.05  7.84  7.92   \n",
       "\n",
       "    XL1  XL2  XL3   US_TBM1   US_TBM2   US_TBM3  KQXT  \n",
       "53   TB   TB    Y  1.605042  2.084034  0.243697   NaN  \n",
       "43    K    K    K  2.747899  2.378151  2.336134   NaN  \n",
       "72   TB   TB   TB  2.033613  1.764706  1.554622   NaN  \n",
       "5     K    G    K  3.512605  4.000000  3.394958   NaN  \n",
       "87   TB   TB    K  1.394958  1.680672  2.294118   NaN  \n",
       "..  ...  ...  ...       ...       ...       ...   ...  \n",
       "84    K    K    K  2.899160  3.352941  2.907563   1.0  \n",
       "11    K    K    K  3.067227  3.310924  3.117647   1.0  \n",
       "23   TB   TB   TB  1.907563  2.134454  2.033613   1.0  \n",
       "24    Y    Y   TB  0.563025  0.924370  1.285714   1.0  \n",
       "97    K    K    K  2.747899  3.411765  3.478992   1.0  \n",
       "\n",
       "[100 rows x 65 columns]"
      ]
     },
     "execution_count": 4,
     "metadata": {},
     "output_type": "execute_result"
    }
   ],
   "source": [
    "# Sắp xếp một DataFrame trong Pandas theo giá trị của cột \"DH1\"\n",
    "data.sort_values(by=[\"DH1\"]) \n",
    "    # sort_values: một phương thức của DataFrame dùng để sắp xếp giá trị trong DataFrame"
   ]
  },
  {
   "cell_type": "markdown",
   "metadata": {},
   "source": [
    "2. Sắp xếp dữ liệu điểm DH2 tăng dần theo nhóm giới tính"
   ]
  },
  {
   "cell_type": "code",
   "execution_count": 5,
   "metadata": {},
   "outputs": [
    {
     "data": {
      "text/html": [
       "<div>\n",
       "<style scoped>\n",
       "    .dataframe tbody tr th:only-of-type {\n",
       "        vertical-align: middle;\n",
       "    }\n",
       "\n",
       "    .dataframe tbody tr th {\n",
       "        vertical-align: top;\n",
       "    }\n",
       "\n",
       "    .dataframe thead th {\n",
       "        text-align: right;\n",
       "    }\n",
       "</style>\n",
       "<table border=\"1\" class=\"dataframe\">\n",
       "  <thead>\n",
       "    <tr style=\"text-align: right;\">\n",
       "      <th></th>\n",
       "      <th>T1</th>\n",
       "      <th>L1</th>\n",
       "      <th>H1</th>\n",
       "      <th>S1</th>\n",
       "      <th>V1</th>\n",
       "      <th>X1</th>\n",
       "      <th>D1</th>\n",
       "      <th>N1</th>\n",
       "      <th>T2</th>\n",
       "      <th>L2</th>\n",
       "      <th>...</th>\n",
       "      <th>TBM1</th>\n",
       "      <th>TBM2</th>\n",
       "      <th>TBM3</th>\n",
       "      <th>XL1</th>\n",
       "      <th>XL2</th>\n",
       "      <th>XL3</th>\n",
       "      <th>US_TBM1</th>\n",
       "      <th>US_TBM2</th>\n",
       "      <th>US_TBM3</th>\n",
       "      <th>KQXT</th>\n",
       "    </tr>\n",
       "  </thead>\n",
       "  <tbody>\n",
       "    <tr>\n",
       "      <th>43</th>\n",
       "      <td>6.6</td>\n",
       "      <td>7.2</td>\n",
       "      <td>5.9</td>\n",
       "      <td>6.9</td>\n",
       "      <td>7.6</td>\n",
       "      <td>8.1</td>\n",
       "      <td>7.3</td>\n",
       "      <td>6.7</td>\n",
       "      <td>6.3</td>\n",
       "      <td>6.9</td>\n",
       "      <td>...</td>\n",
       "      <td>7.05</td>\n",
       "      <td>6.61</td>\n",
       "      <td>6.56</td>\n",
       "      <td>K</td>\n",
       "      <td>K</td>\n",
       "      <td>K</td>\n",
       "      <td>2.747899</td>\n",
       "      <td>2.378151</td>\n",
       "      <td>2.336134</td>\n",
       "      <td>NaN</td>\n",
       "    </tr>\n",
       "    <tr>\n",
       "      <th>83</th>\n",
       "      <td>5.9</td>\n",
       "      <td>5.7</td>\n",
       "      <td>7.1</td>\n",
       "      <td>6.7</td>\n",
       "      <td>6.5</td>\n",
       "      <td>8.0</td>\n",
       "      <td>8.1</td>\n",
       "      <td>4.3</td>\n",
       "      <td>7.4</td>\n",
       "      <td>7.1</td>\n",
       "      <td>...</td>\n",
       "      <td>6.47</td>\n",
       "      <td>7.11</td>\n",
       "      <td>6.74</td>\n",
       "      <td>TB</td>\n",
       "      <td>K</td>\n",
       "      <td>K</td>\n",
       "      <td>2.260504</td>\n",
       "      <td>2.798319</td>\n",
       "      <td>2.487395</td>\n",
       "      <td>NaN</td>\n",
       "    </tr>\n",
       "    <tr>\n",
       "      <th>12</th>\n",
       "      <td>7.3</td>\n",
       "      <td>6.3</td>\n",
       "      <td>8.7</td>\n",
       "      <td>7.7</td>\n",
       "      <td>6.6</td>\n",
       "      <td>8.5</td>\n",
       "      <td>6.9</td>\n",
       "      <td>8.5</td>\n",
       "      <td>5.8</td>\n",
       "      <td>5.7</td>\n",
       "      <td>...</td>\n",
       "      <td>7.44</td>\n",
       "      <td>6.82</td>\n",
       "      <td>7.86</td>\n",
       "      <td>K</td>\n",
       "      <td>K</td>\n",
       "      <td>K</td>\n",
       "      <td>3.075630</td>\n",
       "      <td>2.554622</td>\n",
       "      <td>3.428571</td>\n",
       "      <td>NaN</td>\n",
       "    </tr>\n",
       "    <tr>\n",
       "      <th>45</th>\n",
       "      <td>6.9</td>\n",
       "      <td>5.3</td>\n",
       "      <td>7.1</td>\n",
       "      <td>5.7</td>\n",
       "      <td>7.0</td>\n",
       "      <td>8.4</td>\n",
       "      <td>6.2</td>\n",
       "      <td>6.4</td>\n",
       "      <td>5.4</td>\n",
       "      <td>4.8</td>\n",
       "      <td>...</td>\n",
       "      <td>6.69</td>\n",
       "      <td>6.29</td>\n",
       "      <td>6.25</td>\n",
       "      <td>K</td>\n",
       "      <td>TB</td>\n",
       "      <td>TB</td>\n",
       "      <td>2.445378</td>\n",
       "      <td>2.109244</td>\n",
       "      <td>2.075630</td>\n",
       "      <td>NaN</td>\n",
       "    </tr>\n",
       "    <tr>\n",
       "      <th>50</th>\n",
       "      <td>5.5</td>\n",
       "      <td>7.1</td>\n",
       "      <td>6.1</td>\n",
       "      <td>5.8</td>\n",
       "      <td>6.2</td>\n",
       "      <td>6.9</td>\n",
       "      <td>7.3</td>\n",
       "      <td>6.1</td>\n",
       "      <td>6.2</td>\n",
       "      <td>6.7</td>\n",
       "      <td>...</td>\n",
       "      <td>6.27</td>\n",
       "      <td>6.35</td>\n",
       "      <td>7.24</td>\n",
       "      <td>TB</td>\n",
       "      <td>TB</td>\n",
       "      <td>K</td>\n",
       "      <td>2.092437</td>\n",
       "      <td>2.159664</td>\n",
       "      <td>2.907563</td>\n",
       "      <td>NaN</td>\n",
       "    </tr>\n",
       "    <tr>\n",
       "      <th>...</th>\n",
       "      <td>...</td>\n",
       "      <td>...</td>\n",
       "      <td>...</td>\n",
       "      <td>...</td>\n",
       "      <td>...</td>\n",
       "      <td>...</td>\n",
       "      <td>...</td>\n",
       "      <td>...</td>\n",
       "      <td>...</td>\n",
       "      <td>...</td>\n",
       "      <td>...</td>\n",
       "      <td>...</td>\n",
       "      <td>...</td>\n",
       "      <td>...</td>\n",
       "      <td>...</td>\n",
       "      <td>...</td>\n",
       "      <td>...</td>\n",
       "      <td>...</td>\n",
       "      <td>...</td>\n",
       "      <td>...</td>\n",
       "      <td>...</td>\n",
       "    </tr>\n",
       "    <tr>\n",
       "      <th>90</th>\n",
       "      <td>8.1</td>\n",
       "      <td>7.7</td>\n",
       "      <td>9.1</td>\n",
       "      <td>8.5</td>\n",
       "      <td>6.1</td>\n",
       "      <td>8.6</td>\n",
       "      <td>8.8</td>\n",
       "      <td>7.3</td>\n",
       "      <td>8.8</td>\n",
       "      <td>8.3</td>\n",
       "      <td>...</td>\n",
       "      <td>7.84</td>\n",
       "      <td>8.27</td>\n",
       "      <td>8.09</td>\n",
       "      <td>K</td>\n",
       "      <td>G</td>\n",
       "      <td>G</td>\n",
       "      <td>3.411765</td>\n",
       "      <td>3.773109</td>\n",
       "      <td>3.621849</td>\n",
       "      <td>1.0</td>\n",
       "    </tr>\n",
       "    <tr>\n",
       "      <th>84</th>\n",
       "      <td>8.4</td>\n",
       "      <td>7.4</td>\n",
       "      <td>6.0</td>\n",
       "      <td>7.8</td>\n",
       "      <td>6.3</td>\n",
       "      <td>7.2</td>\n",
       "      <td>8.5</td>\n",
       "      <td>6.0</td>\n",
       "      <td>9.3</td>\n",
       "      <td>7.0</td>\n",
       "      <td>...</td>\n",
       "      <td>7.23</td>\n",
       "      <td>7.77</td>\n",
       "      <td>7.24</td>\n",
       "      <td>K</td>\n",
       "      <td>K</td>\n",
       "      <td>K</td>\n",
       "      <td>2.899160</td>\n",
       "      <td>3.352941</td>\n",
       "      <td>2.907563</td>\n",
       "      <td>1.0</td>\n",
       "    </tr>\n",
       "    <tr>\n",
       "      <th>11</th>\n",
       "      <td>7.9</td>\n",
       "      <td>7.0</td>\n",
       "      <td>9.1</td>\n",
       "      <td>8.6</td>\n",
       "      <td>6.1</td>\n",
       "      <td>7.0</td>\n",
       "      <td>5.6</td>\n",
       "      <td>9.0</td>\n",
       "      <td>8.2</td>\n",
       "      <td>7.1</td>\n",
       "      <td>...</td>\n",
       "      <td>7.43</td>\n",
       "      <td>7.72</td>\n",
       "      <td>7.49</td>\n",
       "      <td>K</td>\n",
       "      <td>K</td>\n",
       "      <td>K</td>\n",
       "      <td>3.067227</td>\n",
       "      <td>3.310924</td>\n",
       "      <td>3.117647</td>\n",
       "      <td>1.0</td>\n",
       "    </tr>\n",
       "    <tr>\n",
       "      <th>23</th>\n",
       "      <td>5.3</td>\n",
       "      <td>6.3</td>\n",
       "      <td>5.7</td>\n",
       "      <td>6.9</td>\n",
       "      <td>5.9</td>\n",
       "      <td>7.5</td>\n",
       "      <td>6.6</td>\n",
       "      <td>5.1</td>\n",
       "      <td>6.4</td>\n",
       "      <td>6.9</td>\n",
       "      <td>...</td>\n",
       "      <td>6.05</td>\n",
       "      <td>6.32</td>\n",
       "      <td>6.20</td>\n",
       "      <td>TB</td>\n",
       "      <td>TB</td>\n",
       "      <td>TB</td>\n",
       "      <td>1.907563</td>\n",
       "      <td>2.134454</td>\n",
       "      <td>2.033613</td>\n",
       "      <td>1.0</td>\n",
       "    </tr>\n",
       "    <tr>\n",
       "      <th>97</th>\n",
       "      <td>8.8</td>\n",
       "      <td>5.5</td>\n",
       "      <td>7.4</td>\n",
       "      <td>7.7</td>\n",
       "      <td>6.2</td>\n",
       "      <td>7.3</td>\n",
       "      <td>8.1</td>\n",
       "      <td>4.5</td>\n",
       "      <td>9.5</td>\n",
       "      <td>7.3</td>\n",
       "      <td>...</td>\n",
       "      <td>7.05</td>\n",
       "      <td>7.84</td>\n",
       "      <td>7.92</td>\n",
       "      <td>K</td>\n",
       "      <td>K</td>\n",
       "      <td>K</td>\n",
       "      <td>2.747899</td>\n",
       "      <td>3.411765</td>\n",
       "      <td>3.478992</td>\n",
       "      <td>1.0</td>\n",
       "    </tr>\n",
       "  </tbody>\n",
       "</table>\n",
       "<p>100 rows × 65 columns</p>\n",
       "</div>"
      ],
      "text/plain": [
       "     T1   L1   H1   S1   V1   X1   D1   N1   T2   L2  ...  TBM1  TBM2  TBM3  \\\n",
       "43  6.6  7.2  5.9  6.9  7.6  8.1  7.3  6.7  6.3  6.9  ...  7.05  6.61  6.56   \n",
       "83  5.9  5.7  7.1  6.7  6.5  8.0  8.1  4.3  7.4  7.1  ...  6.47  7.11  6.74   \n",
       "12  7.3  6.3  8.7  7.7  6.6  8.5  6.9  8.5  5.8  5.7  ...  7.44  6.82  7.86   \n",
       "45  6.9  5.3  7.1  5.7  7.0  8.4  6.2  6.4  5.4  4.8  ...  6.69  6.29  6.25   \n",
       "50  5.5  7.1  6.1  5.8  6.2  6.9  7.3  6.1  6.2  6.7  ...  6.27  6.35  7.24   \n",
       "..  ...  ...  ...  ...  ...  ...  ...  ...  ...  ...  ...   ...   ...   ...   \n",
       "90  8.1  7.7  9.1  8.5  6.1  8.6  8.8  7.3  8.8  8.3  ...  7.84  8.27  8.09   \n",
       "84  8.4  7.4  6.0  7.8  6.3  7.2  8.5  6.0  9.3  7.0  ...  7.23  7.77  7.24   \n",
       "11  7.9  7.0  9.1  8.6  6.1  7.0  5.6  9.0  8.2  7.1  ...  7.43  7.72  7.49   \n",
       "23  5.3  6.3  5.7  6.9  5.9  7.5  6.6  5.1  6.4  6.9  ...  6.05  6.32  6.20   \n",
       "97  8.8  5.5  7.4  7.7  6.2  7.3  8.1  4.5  9.5  7.3  ...  7.05  7.84  7.92   \n",
       "\n",
       "    XL1  XL2  XL3   US_TBM1   US_TBM2   US_TBM3  KQXT  \n",
       "43    K    K    K  2.747899  2.378151  2.336134   NaN  \n",
       "83   TB    K    K  2.260504  2.798319  2.487395   NaN  \n",
       "12    K    K    K  3.075630  2.554622  3.428571   NaN  \n",
       "45    K   TB   TB  2.445378  2.109244  2.075630   NaN  \n",
       "50   TB   TB    K  2.092437  2.159664  2.907563   NaN  \n",
       "..  ...  ...  ...       ...       ...       ...   ...  \n",
       "90    K    G    G  3.411765  3.773109  3.621849   1.0  \n",
       "84    K    K    K  2.899160  3.352941  2.907563   1.0  \n",
       "11    K    K    K  3.067227  3.310924  3.117647   1.0  \n",
       "23   TB   TB   TB  1.907563  2.134454  2.033613   1.0  \n",
       "97    K    K    K  2.747899  3.411765  3.478992   1.0  \n",
       "\n",
       "[100 rows x 65 columns]"
      ]
     },
     "execution_count": 5,
     "metadata": {},
     "output_type": "execute_result"
    }
   ],
   "source": [
    "# Sắp xếp theo thứ tự tăng dần của các giá trị trong hai cột \"GT\" và \"DH1\"\n",
    "data.sort_values(by=[\"GT\", \"DH1\"])\n",
    "    # by=[\"GT\", \"DH1\"]: DataFrame sẽ được sắp xếp trước theo giá trị trong cột \"GT\" và sau đó, \n",
    "    # nếu có các hàng có giá trị \"GT\" giống nhau, sẽ được sắp xếp tiếp theo giá trị trong cột \"DH1\""
   ]
  },
  {
   "cell_type": "markdown",
   "metadata": {},
   "source": [
    "3. Tạo pivot-table để thống kê các giá trị count, sum, mean, median, min, max, std, Q1, Q2 và Q3 của DH1 theo KT"
   ]
  },
  {
   "cell_type": "code",
   "execution_count": 6,
   "metadata": {},
   "outputs": [],
   "source": [
    "# Tạo hàm tính giá trị trung bình một danh sách điểm số\n",
    "def get_mean(scores):\n",
    "    return sum(scores)/len(scores) #trả về giá trị trung bình"
   ]
  },
  {
   "cell_type": "code",
   "execution_count": 7,
   "metadata": {},
   "outputs": [
    {
     "name": "stdout",
     "output_type": "stream",
     "text": [
      "\n",
      "The result of appyling the function on the dataframe:\n",
      "\n",
      "374.0\n"
     ]
    }
   ],
   "source": [
    "result = data[\"DH1\"].sum() #Tính tổng tất cả giá trị trong cột \"DH1\"\n",
    "print(\"\\nThe result of appyling the function on the dataframe:\\n\")\n",
    "print(result) #In ra kết quả"
   ]
  },
  {
   "cell_type": "code",
   "execution_count": 8,
   "metadata": {},
   "outputs": [],
   "source": [
    "def Q1(g): # Tạo hàm tính giá trị phần trăm\n",
    "    return np.percentile(g,25) # Tính giá trị % thứ 25 của danh sách g"
   ]
  },
  {
   "cell_type": "code",
   "execution_count": 9,
   "metadata": {},
   "outputs": [],
   "source": [
    "def Q2(g):\n",
    "    return np.percentile(g,50) # Tính giá trị % thứ 50 của danh sách g"
   ]
  },
  {
   "cell_type": "code",
   "execution_count": 10,
   "metadata": {},
   "outputs": [],
   "source": [
    "def Q3(g):\n",
    "    return np.percentile(g,75) # Tính giá trị % thứ 75 của danh sách g"
   ]
  },
  {
   "cell_type": "code",
   "execution_count": 11,
   "metadata": {},
   "outputs": [],
   "source": [
    "def std(g): \n",
    "    return np.std(g) # Hàm tính độ lệch chuẩn của danh sách g"
   ]
  },
  {
   "cell_type": "code",
   "execution_count": 12,
   "metadata": {},
   "outputs": [
    {
     "data": {
      "text/html": [
       "<div>\n",
       "<style scoped>\n",
       "    .dataframe tbody tr th:only-of-type {\n",
       "        vertical-align: middle;\n",
       "    }\n",
       "\n",
       "    .dataframe tbody tr th {\n",
       "        vertical-align: top;\n",
       "    }\n",
       "\n",
       "    .dataframe thead tr th {\n",
       "        text-align: left;\n",
       "    }\n",
       "\n",
       "    .dataframe thead tr:last-of-type th {\n",
       "        text-align: right;\n",
       "    }\n",
       "</style>\n",
       "<table border=\"1\" class=\"dataframe\">\n",
       "  <thead>\n",
       "    <tr>\n",
       "      <th></th>\n",
       "      <th>sum</th>\n",
       "      <th>mean</th>\n",
       "      <th>median</th>\n",
       "      <th>min</th>\n",
       "      <th>max</th>\n",
       "      <th>std</th>\n",
       "      <th>Q1</th>\n",
       "      <th>Q2</th>\n",
       "      <th>Q3</th>\n",
       "    </tr>\n",
       "    <tr>\n",
       "      <th></th>\n",
       "      <th>DH1</th>\n",
       "      <th>DH1</th>\n",
       "      <th>DH1</th>\n",
       "      <th>DH1</th>\n",
       "      <th>DH1</th>\n",
       "      <th>DH1</th>\n",
       "      <th>DH1</th>\n",
       "      <th>DH1</th>\n",
       "      <th>DH1</th>\n",
       "    </tr>\n",
       "    <tr>\n",
       "      <th>KT</th>\n",
       "      <th></th>\n",
       "      <th></th>\n",
       "      <th></th>\n",
       "      <th></th>\n",
       "      <th></th>\n",
       "      <th></th>\n",
       "      <th></th>\n",
       "      <th></th>\n",
       "      <th></th>\n",
       "    </tr>\n",
       "  </thead>\n",
       "  <tbody>\n",
       "    <tr>\n",
       "      <th>A</th>\n",
       "      <td>163.50</td>\n",
       "      <td>3.336735</td>\n",
       "      <td>3.25</td>\n",
       "      <td>1.00</td>\n",
       "      <td>6.50</td>\n",
       "      <td>1.261226</td>\n",
       "      <td>2.2500</td>\n",
       "      <td>3.25</td>\n",
       "      <td>4.250</td>\n",
       "    </tr>\n",
       "    <tr>\n",
       "      <th>A1</th>\n",
       "      <td>17.50</td>\n",
       "      <td>2.916667</td>\n",
       "      <td>3.00</td>\n",
       "      <td>2.00</td>\n",
       "      <td>4.25</td>\n",
       "      <td>0.786165</td>\n",
       "      <td>2.1875</td>\n",
       "      <td>3.00</td>\n",
       "      <td>3.250</td>\n",
       "    </tr>\n",
       "    <tr>\n",
       "      <th>B</th>\n",
       "      <td>29.50</td>\n",
       "      <td>3.277778</td>\n",
       "      <td>3.50</td>\n",
       "      <td>1.75</td>\n",
       "      <td>4.50</td>\n",
       "      <td>0.776785</td>\n",
       "      <td>3.2500</td>\n",
       "      <td>3.50</td>\n",
       "      <td>3.750</td>\n",
       "    </tr>\n",
       "    <tr>\n",
       "      <th>C</th>\n",
       "      <td>79.25</td>\n",
       "      <td>5.660714</td>\n",
       "      <td>5.25</td>\n",
       "      <td>4.75</td>\n",
       "      <td>7.00</td>\n",
       "      <td>0.782665</td>\n",
       "      <td>5.0625</td>\n",
       "      <td>5.25</td>\n",
       "      <td>6.375</td>\n",
       "    </tr>\n",
       "    <tr>\n",
       "      <th>D1</th>\n",
       "      <td>84.25</td>\n",
       "      <td>3.829545</td>\n",
       "      <td>3.75</td>\n",
       "      <td>1.25</td>\n",
       "      <td>6.75</td>\n",
       "      <td>1.338644</td>\n",
       "      <td>3.0000</td>\n",
       "      <td>3.75</td>\n",
       "      <td>4.875</td>\n",
       "    </tr>\n",
       "  </tbody>\n",
       "</table>\n",
       "</div>"
      ],
      "text/plain": [
       "       sum      mean median   min   max       std      Q1    Q2     Q3\n",
       "       DH1       DH1    DH1   DH1   DH1       DH1     DH1   DH1    DH1\n",
       "KT                                                                    \n",
       "A   163.50  3.336735   3.25  1.00  6.50  1.261226  2.2500  3.25  4.250\n",
       "A1   17.50  2.916667   3.00  2.00  4.25  0.786165  2.1875  3.00  3.250\n",
       "B    29.50  3.277778   3.50  1.75  4.50  0.776785  3.2500  3.50  3.750\n",
       "C    79.25  5.660714   5.25  4.75  7.00  0.782665  5.0625  5.25  6.375\n",
       "D1   84.25  3.829545   3.75  1.25  6.75  1.338644  3.0000  3.75  4.875"
      ]
     },
     "execution_count": 12,
     "metadata": {},
     "output_type": "execute_result"
    }
   ],
   "source": [
    "# Tạo bảng tổng hợp pivot table với Pandas\n",
    "pd.pivot_table(data=data, index=\"KT\", values= 'DH1', aggfunc=['sum', 'mean', 'median', 'min', 'max', std, Q1, Q2, Q3])\n",
    "    # data = data: Sử dụng DataFrame \"data\"\n",
    "    # index=\"KT\": Sử dụng cột \"KT\" làm index cho bảng pivot\n",
    "    # values=\"DH1\": Sử dụng cột \"DH1\" làm giá trị để tính toán.\n",
    "    # aggfunc=['sum', 'mean', 'median', 'min', 'max', std, Q1, Q2, Q3]: Sử dụng các hàm tổng hợp để tính toán các thống kê khác nhau trên cột \"DH1\".\n",
    "            #sum: Tổng các giá trị.\n",
    "            # mean: Giá trị trung bình.\n",
    "            # median: Giá trị trung vị.\n",
    "            # min: Giá trị nhỏ nhất.\n",
    "            # max: Giá trị lớn nhất."
   ]
  },
  {
   "cell_type": "markdown",
   "metadata": {},
   "source": [
    "4. Tạo pivot-table để thống kê các giá trị count, sum, mean, median, min, max, std, Q1, Q2 và Q3 của DH1 theo KT và KV"
   ]
  },
  {
   "cell_type": "code",
   "execution_count": 13,
   "metadata": {},
   "outputs": [
    {
     "data": {
      "text/html": [
       "<div>\n",
       "<style scoped>\n",
       "    .dataframe tbody tr th:only-of-type {\n",
       "        vertical-align: middle;\n",
       "    }\n",
       "\n",
       "    .dataframe tbody tr th {\n",
       "        vertical-align: top;\n",
       "    }\n",
       "\n",
       "    .dataframe thead tr th {\n",
       "        text-align: left;\n",
       "    }\n",
       "\n",
       "    .dataframe thead tr:last-of-type th {\n",
       "        text-align: right;\n",
       "    }\n",
       "</style>\n",
       "<table border=\"1\" class=\"dataframe\">\n",
       "  <thead>\n",
       "    <tr>\n",
       "      <th></th>\n",
       "      <th></th>\n",
       "      <th>sum</th>\n",
       "      <th>mean</th>\n",
       "      <th>median</th>\n",
       "      <th>min</th>\n",
       "      <th>max</th>\n",
       "      <th>std</th>\n",
       "      <th>Q1</th>\n",
       "      <th>Q2</th>\n",
       "      <th>Q3</th>\n",
       "    </tr>\n",
       "    <tr>\n",
       "      <th></th>\n",
       "      <th></th>\n",
       "      <th>DH1</th>\n",
       "      <th>DH1</th>\n",
       "      <th>DH1</th>\n",
       "      <th>DH1</th>\n",
       "      <th>DH1</th>\n",
       "      <th>DH1</th>\n",
       "      <th>DH1</th>\n",
       "      <th>DH1</th>\n",
       "      <th>DH1</th>\n",
       "    </tr>\n",
       "    <tr>\n",
       "      <th>KT</th>\n",
       "      <th>KV</th>\n",
       "      <th></th>\n",
       "      <th></th>\n",
       "      <th></th>\n",
       "      <th></th>\n",
       "      <th></th>\n",
       "      <th></th>\n",
       "      <th></th>\n",
       "      <th></th>\n",
       "      <th></th>\n",
       "    </tr>\n",
       "  </thead>\n",
       "  <tbody>\n",
       "    <tr>\n",
       "      <th rowspan=\"3\" valign=\"top\">A</th>\n",
       "      <th>1</th>\n",
       "      <td>93.75</td>\n",
       "      <td>3.232759</td>\n",
       "      <td>3.250</td>\n",
       "      <td>1.00</td>\n",
       "      <td>6.50</td>\n",
       "      <td>1.345380</td>\n",
       "      <td>2.0000</td>\n",
       "      <td>3.250</td>\n",
       "      <td>4.2500</td>\n",
       "    </tr>\n",
       "    <tr>\n",
       "      <th>2</th>\n",
       "      <td>31.75</td>\n",
       "      <td>3.527778</td>\n",
       "      <td>3.500</td>\n",
       "      <td>2.00</td>\n",
       "      <td>6.25</td>\n",
       "      <td>1.346005</td>\n",
       "      <td>2.2500</td>\n",
       "      <td>3.500</td>\n",
       "      <td>4.2500</td>\n",
       "    </tr>\n",
       "    <tr>\n",
       "      <th>2NT</th>\n",
       "      <td>38.00</td>\n",
       "      <td>3.454545</td>\n",
       "      <td>3.500</td>\n",
       "      <td>2.00</td>\n",
       "      <td>4.75</td>\n",
       "      <td>0.871377</td>\n",
       "      <td>2.8750</td>\n",
       "      <td>3.500</td>\n",
       "      <td>4.1250</td>\n",
       "    </tr>\n",
       "    <tr>\n",
       "      <th rowspan=\"2\" valign=\"top\">A1</th>\n",
       "      <th>1</th>\n",
       "      <td>4.75</td>\n",
       "      <td>2.375000</td>\n",
       "      <td>2.375</td>\n",
       "      <td>2.00</td>\n",
       "      <td>2.75</td>\n",
       "      <td>0.375000</td>\n",
       "      <td>2.1875</td>\n",
       "      <td>2.375</td>\n",
       "      <td>2.5625</td>\n",
       "    </tr>\n",
       "    <tr>\n",
       "      <th>2NT</th>\n",
       "      <td>12.75</td>\n",
       "      <td>3.187500</td>\n",
       "      <td>3.250</td>\n",
       "      <td>2.00</td>\n",
       "      <td>4.25</td>\n",
       "      <td>0.797947</td>\n",
       "      <td>2.9375</td>\n",
       "      <td>3.250</td>\n",
       "      <td>3.5000</td>\n",
       "    </tr>\n",
       "    <tr>\n",
       "      <th rowspan=\"2\" valign=\"top\">B</th>\n",
       "      <th>1</th>\n",
       "      <td>25.75</td>\n",
       "      <td>3.218750</td>\n",
       "      <td>3.375</td>\n",
       "      <td>1.75</td>\n",
       "      <td>4.50</td>\n",
       "      <td>0.804650</td>\n",
       "      <td>3.0000</td>\n",
       "      <td>3.375</td>\n",
       "      <td>3.5625</td>\n",
       "    </tr>\n",
       "    <tr>\n",
       "      <th>2NT</th>\n",
       "      <td>3.75</td>\n",
       "      <td>3.750000</td>\n",
       "      <td>3.750</td>\n",
       "      <td>3.75</td>\n",
       "      <td>3.75</td>\n",
       "      <td>0.000000</td>\n",
       "      <td>3.7500</td>\n",
       "      <td>3.750</td>\n",
       "      <td>3.7500</td>\n",
       "    </tr>\n",
       "    <tr>\n",
       "      <th rowspan=\"3\" valign=\"top\">C</th>\n",
       "      <th>1</th>\n",
       "      <td>43.50</td>\n",
       "      <td>5.437500</td>\n",
       "      <td>5.250</td>\n",
       "      <td>4.75</td>\n",
       "      <td>7.00</td>\n",
       "      <td>0.681795</td>\n",
       "      <td>5.0000</td>\n",
       "      <td>5.250</td>\n",
       "      <td>5.4375</td>\n",
       "    </tr>\n",
       "    <tr>\n",
       "      <th>2</th>\n",
       "      <td>11.50</td>\n",
       "      <td>5.750000</td>\n",
       "      <td>5.750</td>\n",
       "      <td>5.00</td>\n",
       "      <td>6.50</td>\n",
       "      <td>0.750000</td>\n",
       "      <td>5.3750</td>\n",
       "      <td>5.750</td>\n",
       "      <td>6.1250</td>\n",
       "    </tr>\n",
       "    <tr>\n",
       "      <th>2NT</th>\n",
       "      <td>24.25</td>\n",
       "      <td>6.062500</td>\n",
       "      <td>6.000</td>\n",
       "      <td>5.25</td>\n",
       "      <td>7.00</td>\n",
       "      <td>0.817294</td>\n",
       "      <td>5.2500</td>\n",
       "      <td>6.000</td>\n",
       "      <td>6.8125</td>\n",
       "    </tr>\n",
       "    <tr>\n",
       "      <th rowspan=\"3\" valign=\"top\">D1</th>\n",
       "      <th>1</th>\n",
       "      <td>46.75</td>\n",
       "      <td>3.596154</td>\n",
       "      <td>3.500</td>\n",
       "      <td>1.50</td>\n",
       "      <td>5.75</td>\n",
       "      <td>1.215044</td>\n",
       "      <td>2.7500</td>\n",
       "      <td>3.500</td>\n",
       "      <td>4.2500</td>\n",
       "    </tr>\n",
       "    <tr>\n",
       "      <th>2</th>\n",
       "      <td>33.75</td>\n",
       "      <td>4.218750</td>\n",
       "      <td>4.500</td>\n",
       "      <td>1.25</td>\n",
       "      <td>6.75</td>\n",
       "      <td>1.512642</td>\n",
       "      <td>3.5625</td>\n",
       "      <td>4.500</td>\n",
       "      <td>5.0000</td>\n",
       "    </tr>\n",
       "    <tr>\n",
       "      <th>2NT</th>\n",
       "      <td>3.75</td>\n",
       "      <td>3.750000</td>\n",
       "      <td>3.750</td>\n",
       "      <td>3.75</td>\n",
       "      <td>3.75</td>\n",
       "      <td>0.000000</td>\n",
       "      <td>3.7500</td>\n",
       "      <td>3.750</td>\n",
       "      <td>3.7500</td>\n",
       "    </tr>\n",
       "  </tbody>\n",
       "</table>\n",
       "</div>"
      ],
      "text/plain": [
       "          sum      mean median   min   max       std      Q1     Q2      Q3\n",
       "          DH1       DH1    DH1   DH1   DH1       DH1     DH1    DH1     DH1\n",
       "KT KV                                                                      \n",
       "A  1    93.75  3.232759  3.250  1.00  6.50  1.345380  2.0000  3.250  4.2500\n",
       "   2    31.75  3.527778  3.500  2.00  6.25  1.346005  2.2500  3.500  4.2500\n",
       "   2NT  38.00  3.454545  3.500  2.00  4.75  0.871377  2.8750  3.500  4.1250\n",
       "A1 1     4.75  2.375000  2.375  2.00  2.75  0.375000  2.1875  2.375  2.5625\n",
       "   2NT  12.75  3.187500  3.250  2.00  4.25  0.797947  2.9375  3.250  3.5000\n",
       "B  1    25.75  3.218750  3.375  1.75  4.50  0.804650  3.0000  3.375  3.5625\n",
       "   2NT   3.75  3.750000  3.750  3.75  3.75  0.000000  3.7500  3.750  3.7500\n",
       "C  1    43.50  5.437500  5.250  4.75  7.00  0.681795  5.0000  5.250  5.4375\n",
       "   2    11.50  5.750000  5.750  5.00  6.50  0.750000  5.3750  5.750  6.1250\n",
       "   2NT  24.25  6.062500  6.000  5.25  7.00  0.817294  5.2500  6.000  6.8125\n",
       "D1 1    46.75  3.596154  3.500  1.50  5.75  1.215044  2.7500  3.500  4.2500\n",
       "   2    33.75  4.218750  4.500  1.25  6.75  1.512642  3.5625  4.500  5.0000\n",
       "   2NT   3.75  3.750000  3.750  3.75  3.75  0.000000  3.7500  3.750  3.7500"
      ]
     },
     "execution_count": 13,
     "metadata": {},
     "output_type": "execute_result"
    }
   ],
   "source": [
    "pd.pivot_table(data=data, index=['KT', 'KV'], values= 'DH1', aggfunc=['sum', 'mean', 'median', 'min', 'max', std, Q1, Q2, Q3])\n",
    "# Thêm cột KV để thống kê các giá trị theo 2 cột KT và KV"
   ]
  },
  {
   "cell_type": "markdown",
   "metadata": {},
   "source": [
    "5. Tạo pivot-table để thống kê các giá trị count, sum, mean, median, min, max, std, Q1, Q2 và Q3 của DH1 theo KT, KV và DT\n"
   ]
  },
  {
   "cell_type": "code",
   "execution_count": 14,
   "metadata": {},
   "outputs": [
    {
     "data": {
      "text/html": [
       "<div>\n",
       "<style scoped>\n",
       "    .dataframe tbody tr th:only-of-type {\n",
       "        vertical-align: middle;\n",
       "    }\n",
       "\n",
       "    .dataframe tbody tr th {\n",
       "        vertical-align: top;\n",
       "    }\n",
       "\n",
       "    .dataframe thead tr th {\n",
       "        text-align: left;\n",
       "    }\n",
       "\n",
       "    .dataframe thead tr:last-of-type th {\n",
       "        text-align: right;\n",
       "    }\n",
       "</style>\n",
       "<table border=\"1\" class=\"dataframe\">\n",
       "  <thead>\n",
       "    <tr>\n",
       "      <th></th>\n",
       "      <th></th>\n",
       "      <th></th>\n",
       "      <th>sum</th>\n",
       "      <th>mean</th>\n",
       "      <th>median</th>\n",
       "      <th>min</th>\n",
       "      <th>max</th>\n",
       "      <th>std</th>\n",
       "      <th>Q1</th>\n",
       "      <th>Q2</th>\n",
       "      <th>Q3</th>\n",
       "    </tr>\n",
       "    <tr>\n",
       "      <th></th>\n",
       "      <th></th>\n",
       "      <th></th>\n",
       "      <th>DH1</th>\n",
       "      <th>DH1</th>\n",
       "      <th>DH1</th>\n",
       "      <th>DH1</th>\n",
       "      <th>DH1</th>\n",
       "      <th>DH1</th>\n",
       "      <th>DH1</th>\n",
       "      <th>DH1</th>\n",
       "      <th>DH1</th>\n",
       "    </tr>\n",
       "    <tr>\n",
       "      <th>KT</th>\n",
       "      <th>KV</th>\n",
       "      <th>DT</th>\n",
       "      <th></th>\n",
       "      <th></th>\n",
       "      <th></th>\n",
       "      <th></th>\n",
       "      <th></th>\n",
       "      <th></th>\n",
       "      <th></th>\n",
       "      <th></th>\n",
       "      <th></th>\n",
       "    </tr>\n",
       "  </thead>\n",
       "  <tbody>\n",
       "    <tr>\n",
       "      <th>A</th>\n",
       "      <th>2</th>\n",
       "      <th>6.0</th>\n",
       "      <td>4.25</td>\n",
       "      <td>4.25</td>\n",
       "      <td>4.25</td>\n",
       "      <td>4.25</td>\n",
       "      <td>4.25</td>\n",
       "      <td>0.0</td>\n",
       "      <td>4.25</td>\n",
       "      <td>4.25</td>\n",
       "      <td>4.25</td>\n",
       "    </tr>\n",
       "    <tr>\n",
       "      <th rowspan=\"2\" valign=\"top\">D1</th>\n",
       "      <th>1</th>\n",
       "      <th>1.0</th>\n",
       "      <td>3.00</td>\n",
       "      <td>3.00</td>\n",
       "      <td>3.00</td>\n",
       "      <td>3.00</td>\n",
       "      <td>3.00</td>\n",
       "      <td>0.0</td>\n",
       "      <td>3.00</td>\n",
       "      <td>3.00</td>\n",
       "      <td>3.00</td>\n",
       "    </tr>\n",
       "    <tr>\n",
       "      <th>2</th>\n",
       "      <th>1.0</th>\n",
       "      <td>1.25</td>\n",
       "      <td>1.25</td>\n",
       "      <td>1.25</td>\n",
       "      <td>1.25</td>\n",
       "      <td>1.25</td>\n",
       "      <td>0.0</td>\n",
       "      <td>1.25</td>\n",
       "      <td>1.25</td>\n",
       "      <td>1.25</td>\n",
       "    </tr>\n",
       "  </tbody>\n",
       "</table>\n",
       "</div>"
      ],
      "text/plain": [
       "            sum  mean median   min   max  std    Q1    Q2    Q3\n",
       "            DH1   DH1    DH1   DH1   DH1  DH1   DH1   DH1   DH1\n",
       "KT KV DT                                                       \n",
       "A  2  6.0  4.25  4.25   4.25  4.25  4.25  0.0  4.25  4.25  4.25\n",
       "D1 1  1.0  3.00  3.00   3.00  3.00  3.00  0.0  3.00  3.00  3.00\n",
       "   2  1.0  1.25  1.25   1.25  1.25  1.25  0.0  1.25  1.25  1.25"
      ]
     },
     "execution_count": 14,
     "metadata": {},
     "output_type": "execute_result"
    }
   ],
   "source": [
    "pd.pivot_table(data=data, index=['KT', 'KV', 'DT'], values= 'DH1', aggfunc=['sum', 'mean', 'median', 'min', 'max', std, Q1, Q2, Q3])\n",
    "# Thêm cột DT để thống kê các giá trị theo 3 cột KT, KV và DT"
   ]
  },
  {
   "cell_type": "markdown",
   "metadata": {},
   "source": [
    "### Phần 2: Trình bày dữ liệu"
   ]
  },
  {
   "cell_type": "markdown",
   "metadata": {},
   "source": [
    "1. Trình bày dữ liệu biến 'GT'\n",
    "* Lập bảng tần số và tần suất \n",
    "* Vẽ biểu đồ tần số (cột), biểu đồ tần suất (tròn) "
   ]
  },
  {
   "cell_type": "code",
   "execution_count": 15,
   "metadata": {},
   "outputs": [],
   "source": [
    "# Lập bảng tần số liệt kê các giá trị \n",
    "gt = data.groupby('GT')['GT'].agg('count') #đếm số lượng các giá trị cho mỗi nhóm trong cột \"GT\""
   ]
  },
  {
   "cell_type": "code",
   "execution_count": 16,
   "metadata": {},
   "outputs": [
    {
     "data": {
      "text/plain": [
       "<AxesSubplot:xlabel='GT'>"
      ]
     },
     "execution_count": 16,
     "metadata": {},
     "output_type": "execute_result"
    },
    {
     "data": {
      "image/png": "[encoded data removed]",
      "text/plain": [
       "<Figure size 640x480 with 1 Axes>"
      ]
     },
     "metadata": {},
     "output_type": "display_data"
    }
   ],
   "source": [
    "gt.plot.bar() #vẽ biểu đồ cột từ dữ liệu tần số 'gt' được tính toán trước\n",
    "    # plot.bar(): Đây là phương thức của Pandas Series/DataFrame sử dụng\n",
    "    #  thư viện Matplotlib để vẽ biểu đồ cột từ dữ liệu"
   ]
  },
  {
   "cell_type": "code",
   "execution_count": 17,
   "metadata": {},
   "outputs": [
    {
     "data": {
      "text/plain": [
       "<AxesSubplot:ylabel='GT'>"
      ]
     },
     "execution_count": 17,
     "metadata": {},
     "output_type": "execute_result"
    },
    {
     "data": {
      "image/png": "[encoded data removed]",
      "text/plain": [
       "<Figure size 640x480 with 1 Axes>"
      ]
     },
     "metadata": {},
     "output_type": "display_data"
    }
   ],
   "source": [
    "gt.plot.pie() # Vẽ biểu đồ tròn từ dữ liệu tần số 'gt' được tính toán trước"
   ]
  },
  {
   "cell_type": "code",
   "execution_count": 18,
   "metadata": {},
   "outputs": [
    {
     "data": {
      "text/plain": [
       "<AxesSubplot:xlabel='GT'>"
      ]
     },
     "execution_count": 18,
     "metadata": {},
     "output_type": "execute_result"
    },
    {
     "data": {
      "image/png": "[encoded data removed]",
      "text/plain": [
       "<Figure size 640x480 with 1 Axes>"
      ]
     },
     "metadata": {},
     "output_type": "display_data"
    }
   ],
   "source": [
    "gt.plot.area() #Vẽ biểu đồ diện tích từ dữ liệu tần số 'gt'"
   ]
  },
  {
   "cell_type": "markdown",
   "metadata": {},
   "source": [
    "2. Trình bày dữ liệu lần lượt các biến: US_TBM1, US_TBM2 và US_TBM3"
   ]
  },
  {
   "cell_type": "code",
   "execution_count": 19,
   "metadata": {},
   "outputs": [],
   "source": [
    "cau22 = pd.DataFrame(data, columns=['US_TBM1', 'US_TBM2', 'US_TBM3'])"
   ]
  },
  {
   "cell_type": "code",
   "execution_count": 20,
   "metadata": {},
   "outputs": [
    {
     "data": {
      "text/html": [
       "<div>\n",
       "<style scoped>\n",
       "    .dataframe tbody tr th:only-of-type {\n",
       "        vertical-align: middle;\n",
       "    }\n",
       "\n",
       "    .dataframe tbody tr th {\n",
       "        vertical-align: top;\n",
       "    }\n",
       "\n",
       "    .dataframe thead th {\n",
       "        text-align: right;\n",
       "    }\n",
       "</style>\n",
       "<table border=\"1\" class=\"dataframe\">\n",
       "  <thead>\n",
       "    <tr style=\"text-align: right;\">\n",
       "      <th></th>\n",
       "      <th>US_TBM1</th>\n",
       "      <th>US_TBM2</th>\n",
       "      <th>US_TBM3</th>\n",
       "    </tr>\n",
       "  </thead>\n",
       "  <tbody>\n",
       "    <tr>\n",
       "      <th>count</th>\n",
       "      <td>100.000000</td>\n",
       "      <td>100.000000</td>\n",
       "      <td>100.000000</td>\n",
       "    </tr>\n",
       "    <tr>\n",
       "      <th>mean</th>\n",
       "      <td>1.937983</td>\n",
       "      <td>2.200840</td>\n",
       "      <td>2.156050</td>\n",
       "    </tr>\n",
       "    <tr>\n",
       "      <th>std</th>\n",
       "      <td>0.821855</td>\n",
       "      <td>0.793394</td>\n",
       "      <td>0.790229</td>\n",
       "    </tr>\n",
       "    <tr>\n",
       "      <th>min</th>\n",
       "      <td>0.218487</td>\n",
       "      <td>0.537815</td>\n",
       "      <td>0.000000</td>\n",
       "    </tr>\n",
       "    <tr>\n",
       "      <th>25%</th>\n",
       "      <td>1.250000</td>\n",
       "      <td>1.493697</td>\n",
       "      <td>1.573529</td>\n",
       "    </tr>\n",
       "    <tr>\n",
       "      <th>50%</th>\n",
       "      <td>2.033613</td>\n",
       "      <td>2.260504</td>\n",
       "      <td>2.205882</td>\n",
       "    </tr>\n",
       "    <tr>\n",
       "      <th>75%</th>\n",
       "      <td>2.546218</td>\n",
       "      <td>2.901261</td>\n",
       "      <td>2.733193</td>\n",
       "    </tr>\n",
       "    <tr>\n",
       "      <th>max</th>\n",
       "      <td>3.613445</td>\n",
       "      <td>4.000000</td>\n",
       "      <td>3.621849</td>\n",
       "    </tr>\n",
       "  </tbody>\n",
       "</table>\n",
       "</div>"
      ],
      "text/plain": [
       "          US_TBM1     US_TBM2     US_TBM3\n",
       "count  100.000000  100.000000  100.000000\n",
       "mean     1.937983    2.200840    2.156050\n",
       "std      0.821855    0.793394    0.790229\n",
       "min      0.218487    0.537815    0.000000\n",
       "25%      1.250000    1.493697    1.573529\n",
       "50%      2.033613    2.260504    2.205882\n",
       "75%      2.546218    2.901261    2.733193\n",
       "max      3.613445    4.000000    3.621849"
      ]
     },
     "execution_count": 20,
     "metadata": {},
     "output_type": "execute_result"
    }
   ],
   "source": [
    "cau22.describe()"
   ]
  },
  {
   "cell_type": "markdown",
   "metadata": {},
   "source": [
    "3.  Trình bày dữ liệu biến DT với các học sinh là nam"
   ]
  },
  {
   "cell_type": "code",
   "execution_count": 21,
   "metadata": {},
   "outputs": [
    {
     "data": {
      "text/plain": [
       "DT\n",
       "1.0    1\n",
       "6.0    1\n",
       "Name: DT, dtype: int64"
      ]
     },
     "execution_count": 21,
     "metadata": {},
     "output_type": "execute_result"
    }
   ],
   "source": [
    "cau32 = data[data['GT']=='M']\n",
    "cau32.groupby('DT')['DT'].agg('count')"
   ]
  },
  {
   "cell_type": "markdown",
   "metadata": {},
   "source": [
    "4. Trình bày dữ liệu biến KV với các học sinh là nam thuộc dân tộc Kinh, có điểm thỏa mãn điều kiện (DH1 >= 5.0 và DH2 >= 4.0 và DH3 >= 4.0)"
   ]
  },
  {
   "cell_type": "code",
   "execution_count": 22,
   "metadata": {},
   "outputs": [
    {
     "data": {
      "text/plain": [
       "DT\n",
       "1.0    1\n",
       "Name: DT, dtype: int64"
      ]
     },
     "execution_count": 22,
     "metadata": {},
     "output_type": "execute_result"
    }
   ],
   "source": [
    "#Lọc dữ liệu từ data với các điều kiện: \n",
    "    # Cột 'GT' có giá trị bằng 'M'\n",
    "    # Cột 'DT' có giá trị bằng '1'\n",
    "cau42 = data[(data['GT'] == 'M') & (data[\"DT\"]==1)]  #Lọc dataframe\n",
    "cau42.groupby('DT')['DT'].agg('count') # Nhóm dữ liệu theo cột DT và đếm sớ lượng dòng trong mỗi nhóm"
   ]
  },
  {
   "cell_type": "markdown",
   "metadata": {},
   "source": [
    "5. Trình bày dữ liệu lần lượt các biến DH1, DH2, DH3 lớn hơn bằng 5.0 và thuộc khu vực 2NT"
   ]
  },
  {
   "cell_type": "code",
   "execution_count": 34,
   "metadata": {},
   "outputs": [],
   "source": [
    "locdl = data[(data['DH1'] >= 5.0) & (data['DH2'] >= 5.0) & (data['DH3'] >= 5.0) & (data['KV'] == '2NT')]\n",
    "# Lần lượt lấy dữ liệu DH1, DH2, DH3 >5.0 và thuộc khu vựa 2NT trong cột KV"
   ]
  },
  {
   "cell_type": "code",
   "execution_count": 35,
   "metadata": {},
   "outputs": [
    {
     "data": {
      "text/html": [
       "<div>\n",
       "<style scoped>\n",
       "    .dataframe tbody tr th:only-of-type {\n",
       "        vertical-align: middle;\n",
       "    }\n",
       "\n",
       "    .dataframe tbody tr th {\n",
       "        vertical-align: top;\n",
       "    }\n",
       "\n",
       "    .dataframe thead th {\n",
       "        text-align: right;\n",
       "    }\n",
       "</style>\n",
       "<table border=\"1\" class=\"dataframe\">\n",
       "  <thead>\n",
       "    <tr style=\"text-align: right;\">\n",
       "      <th></th>\n",
       "      <th>T1</th>\n",
       "      <th>L1</th>\n",
       "      <th>H1</th>\n",
       "      <th>S1</th>\n",
       "      <th>V1</th>\n",
       "      <th>X1</th>\n",
       "      <th>D1</th>\n",
       "      <th>N1</th>\n",
       "      <th>T2</th>\n",
       "      <th>L2</th>\n",
       "      <th>...</th>\n",
       "      <th>TBM2</th>\n",
       "      <th>TBM3</th>\n",
       "      <th>XL1</th>\n",
       "      <th>XL2</th>\n",
       "      <th>XL3</th>\n",
       "      <th>US_TBM1</th>\n",
       "      <th>US_TBM2</th>\n",
       "      <th>US_TBM3</th>\n",
       "      <th>KQXT</th>\n",
       "      <th>phanlopt1</th>\n",
       "    </tr>\n",
       "  </thead>\n",
       "  <tbody>\n",
       "    <tr>\n",
       "      <th>23</th>\n",
       "      <td>5.3</td>\n",
       "      <td>6.3</td>\n",
       "      <td>5.7</td>\n",
       "      <td>6.9</td>\n",
       "      <td>5.9</td>\n",
       "      <td>7.5</td>\n",
       "      <td>6.6</td>\n",
       "      <td>5.1</td>\n",
       "      <td>6.4</td>\n",
       "      <td>6.9</td>\n",
       "      <td>...</td>\n",
       "      <td>6.32</td>\n",
       "      <td>6.2</td>\n",
       "      <td>TB</td>\n",
       "      <td>TB</td>\n",
       "      <td>TB</td>\n",
       "      <td>1.907563</td>\n",
       "      <td>2.134454</td>\n",
       "      <td>2.033613</td>\n",
       "      <td>1.0</td>\n",
       "      <td>tb</td>\n",
       "    </tr>\n",
       "  </tbody>\n",
       "</table>\n",
       "<p>1 rows × 66 columns</p>\n",
       "</div>"
      ],
      "text/plain": [
       "     T1   L1   H1   S1   V1   X1   D1   N1   T2   L2  ...  TBM2  TBM3  XL1  \\\n",
       "23  5.3  6.3  5.7  6.9  5.9  7.5  6.6  5.1  6.4  6.9  ...  6.32   6.2   TB   \n",
       "\n",
       "    XL2  XL3   US_TBM1   US_TBM2   US_TBM3  KQXT  phanlopt1  \n",
       "23   TB   TB  1.907563  2.134454  2.033613   1.0         tb  \n",
       "\n",
       "[1 rows x 66 columns]"
      ]
     },
     "execution_count": 35,
     "metadata": {},
     "output_type": "execute_result"
    }
   ],
   "source": [
    "locdl"
   ]
  },
  {
   "cell_type": "markdown",
   "metadata": {},
   "source": [
    "### Phần 3:  Trực quan hóa dữ liệu theo nhóm phân loại"
   ]
  },
  {
   "cell_type": "markdown",
   "metadata": {},
   "source": [
    "1. Trực quan dữ liệu học sinh nữ trên các nhóm XL1, XL2, XL3 dạng unstacked"
   ]
  },
  {
   "cell_type": "code",
   "execution_count": 23,
   "metadata": {},
   "outputs": [],
   "source": [
    "cau31= data[data['GT'] == 'F'].groupby(['XL1', 'XL2', 'XL3'])[['GT']].count()\n",
    "    # data[data['GT'] == 'F'] : lọc dữ liệu từ data, giữ lại các hàng mà cột 'GT' có giá trị bằng 'F'\n",
    "    # groupby(['XL1', 'XL2', 'XL3']) : nhóm các hàng còn lại theo các cột XL1, XL2, và XL3\n",
    "    # [['GT']].count() : tính số lượng dòng cho mỗi nhóm, chỉ tính cho cột 'GT'"
   ]
  },
  {
   "cell_type": "code",
   "execution_count": 24,
   "metadata": {},
   "outputs": [
    {
     "data": {
      "text/html": [
       "<div>\n",
       "<style scoped>\n",
       "    .dataframe tbody tr th:only-of-type {\n",
       "        vertical-align: middle;\n",
       "    }\n",
       "\n",
       "    .dataframe tbody tr th {\n",
       "        vertical-align: top;\n",
       "    }\n",
       "\n",
       "    .dataframe thead tr th {\n",
       "        text-align: left;\n",
       "    }\n",
       "\n",
       "    .dataframe thead tr:last-of-type th {\n",
       "        text-align: right;\n",
       "    }\n",
       "</style>\n",
       "<table border=\"1\" class=\"dataframe\">\n",
       "  <thead>\n",
       "    <tr>\n",
       "      <th></th>\n",
       "      <th></th>\n",
       "      <th colspan=\"4\" halign=\"left\">GT</th>\n",
       "    </tr>\n",
       "    <tr>\n",
       "      <th></th>\n",
       "      <th>XL3</th>\n",
       "      <th>G</th>\n",
       "      <th>K</th>\n",
       "      <th>TB</th>\n",
       "      <th>Y</th>\n",
       "    </tr>\n",
       "    <tr>\n",
       "      <th>XL1</th>\n",
       "      <th>XL2</th>\n",
       "      <th></th>\n",
       "      <th></th>\n",
       "      <th></th>\n",
       "      <th></th>\n",
       "    </tr>\n",
       "  </thead>\n",
       "  <tbody>\n",
       "    <tr>\n",
       "      <th>G</th>\n",
       "      <th>G</th>\n",
       "      <td>1.0</td>\n",
       "      <td>NaN</td>\n",
       "      <td>NaN</td>\n",
       "      <td>NaN</td>\n",
       "    </tr>\n",
       "    <tr>\n",
       "      <th rowspan=\"3\" valign=\"top\">K</th>\n",
       "      <th>G</th>\n",
       "      <td>NaN</td>\n",
       "      <td>1.0</td>\n",
       "      <td>NaN</td>\n",
       "      <td>NaN</td>\n",
       "    </tr>\n",
       "    <tr>\n",
       "      <th>K</th>\n",
       "      <td>NaN</td>\n",
       "      <td>20.0</td>\n",
       "      <td>1.0</td>\n",
       "      <td>NaN</td>\n",
       "    </tr>\n",
       "    <tr>\n",
       "      <th>TB</th>\n",
       "      <td>NaN</td>\n",
       "      <td>NaN</td>\n",
       "      <td>2.0</td>\n",
       "      <td>NaN</td>\n",
       "    </tr>\n",
       "    <tr>\n",
       "      <th rowspan=\"2\" valign=\"top\">TB</th>\n",
       "      <th>K</th>\n",
       "      <td>NaN</td>\n",
       "      <td>6.0</td>\n",
       "      <td>3.0</td>\n",
       "      <td>NaN</td>\n",
       "    </tr>\n",
       "    <tr>\n",
       "      <th>TB</th>\n",
       "      <td>NaN</td>\n",
       "      <td>1.0</td>\n",
       "      <td>8.0</td>\n",
       "      <td>NaN</td>\n",
       "    </tr>\n",
       "    <tr>\n",
       "      <th rowspan=\"2\" valign=\"top\">Y</th>\n",
       "      <th>TB</th>\n",
       "      <td>NaN</td>\n",
       "      <td>NaN</td>\n",
       "      <td>3.0</td>\n",
       "      <td>1.0</td>\n",
       "    </tr>\n",
       "    <tr>\n",
       "      <th>Y</th>\n",
       "      <td>NaN</td>\n",
       "      <td>NaN</td>\n",
       "      <td>1.0</td>\n",
       "      <td>NaN</td>\n",
       "    </tr>\n",
       "  </tbody>\n",
       "</table>\n",
       "</div>"
      ],
      "text/plain": [
       "          GT                \n",
       "XL3        G     K   TB    Y\n",
       "XL1 XL2                     \n",
       "G   G    1.0   NaN  NaN  NaN\n",
       "K   G    NaN   1.0  NaN  NaN\n",
       "    K    NaN  20.0  1.0  NaN\n",
       "    TB   NaN   NaN  2.0  NaN\n",
       "TB  K    NaN   6.0  3.0  NaN\n",
       "    TB   NaN   1.0  8.0  NaN\n",
       "Y   TB   NaN   NaN  3.0  1.0\n",
       "    Y    NaN   NaN  1.0  NaN"
      ]
     },
     "execution_count": 24,
     "metadata": {},
     "output_type": "execute_result"
    }
   ],
   "source": [
    "cau31.unstack()\n",
    "# In và chuyển đổi dữ liệu từ dạng long thành dạng wide để dễ dàng quan sát và phân tích"
   ]
  },
  {
   "cell_type": "code",
   "execution_count": 25,
   "metadata": {},
   "outputs": [
    {
     "data": {
      "text/plain": [
       "<AxesSubplot:xlabel='XL1,XL2,XL3'>"
      ]
     },
     "execution_count": 25,
     "metadata": {},
     "output_type": "execute_result"
    },
    {
     "data": {
      "image/png": "[encoded data removed]",
      "text/plain": [
       "<Figure size 640x480 with 1 Axes>"
      ]
     },
     "metadata": {},
     "output_type": "display_data"
    }
   ],
   "source": [
    "cau31.plot.bar() #In biểu đồ cột của dataframe 'cau31'"
   ]
  },
  {
   "cell_type": "markdown",
   "metadata": {},
   "source": [
    "2. Trực quan dữ liệu KQXT trên nhóm học sinh có khối thi A, A1, B thuộc khu vực 1, 2"
   ]
  },
  {
   "cell_type": "code",
   "execution_count": 39,
   "metadata": {},
   "outputs": [],
   "source": [
    "# Lọc dữ liệu giới tính là nữ\n",
    "female_data = data[data['GT'] == 'F']"
   ]
  },
  {
   "cell_type": "code",
   "execution_count": 40,
   "metadata": {},
   "outputs": [],
   "source": [
    "# Tạo bảng tổng hợp dữ liệu\n",
    "THDL = female_data.pivot_table(index=['XL1', 'XL2', 'XL3'], aggfunc='size').unstack(fill_value=0)"
   ]
  },
  {
   "cell_type": "code",
   "execution_count": 51,
   "metadata": {},
   "outputs": [
    {
     "data": {
      "text/plain": [
       "<AxesSubplot:xlabel='XL1,XL2'>"
      ]
     },
     "execution_count": 51,
     "metadata": {},
     "output_type": "execute_result"
    },
    {
     "data": {
      "image/png": "[encoded data removed]",
      "text/plain": [
       "<Figure size 640x480 with 1 Axes>"
      ]
     },
     "metadata": {},
     "output_type": "display_data"
    }
   ],
   "source": [
    "# Vẽ biểu đồ cột dạng unstacked\n",
    "THDL.plot(kind='bar', stacked=False, color=['yellow', 'blue', 'green', 'orange', 'red'])"
   ]
  },
  {
   "cell_type": "markdown",
   "metadata": {},
   "source": [
    "### Phần 4: Trực quan hóa dữ liệu nâng cao"
   ]
  },
  {
   "cell_type": "markdown",
   "metadata": {},
   "source": [
    "1. Vẽ biểu đồ đường Simple cho biến T1"
   ]
  },
  {
   "cell_type": "code",
   "execution_count": 26,
   "metadata": {},
   "outputs": [
    {
     "data": {
      "text/plain": [
       "<AxesSubplot:xlabel='T1'>"
      ]
     },
     "execution_count": 26,
     "metadata": {},
     "output_type": "execute_result"
    },
    {
     "data": {
      "image/png": "[encoded data removed]",
      "text/plain": [
       "<Figure size 640x480 with 1 Axes>"
      ]
     },
     "metadata": {},
     "output_type": "display_data"
    }
   ],
   "source": [
    "data.groupby('T1')['T1'].count().plot()\n",
    "# Vẽ biểu đồ dữ liệu được nhóm và đếm số lượng dòng trong mỗi nhóm của cột T1"
   ]
  },
  {
   "cell_type": "markdown",
   "metadata": {},
   "source": [
    "2.  Tạo biến phân loại (phanlopt1) cho môn toán (T1) như sau:\n",
    "    * Từ 0 đến dưới 5 = kém (ký hiệu \"k\") \n",
    "    * Từ 5 đến dưới 7 = trung bình (ký hiệu \"tb\")\n",
    "    * Từ 7 đến dưới 8 = khá (ký hiệu \"k\")\n",
    "    * Từ 8 trở lên = giỏi (ký hiệu \"g\")"
   ]
  },
  {
   "cell_type": "code",
   "execution_count": 27,
   "metadata": {},
   "outputs": [],
   "source": [
    "#Tạo một cột mới trong dataframe 'data' dựa trên giá trị của 'T1'\n",
    "data.loc[(data['T1']<5), 'phanlopt1'] = 'kem' #Nếu giá trị trong cột 'T1' nhỏ hơn 5, thì giá trị trong cột 'phanlopt1' sẽ là 'kem'.\n",
    "data.loc[(data['T1']>=5)&(data['T1'] <7), 'phanlopt1'] = 'tb'\n",
    "data.loc[(data['T1']>=7)&(data['T1'] <8), 'phanlopt1'] = 'k'\n",
    "data.loc[(data['T1'] >=8), 'phanlopt1'] = 'gioi'"
   ]
  },
  {
   "cell_type": "code",
   "execution_count": 47,
   "metadata": {},
   "outputs": [
    {
     "data": {
      "text/html": [
       "<div>\n",
       "<style scoped>\n",
       "    .dataframe tbody tr th:only-of-type {\n",
       "        vertical-align: middle;\n",
       "    }\n",
       "\n",
       "    .dataframe tbody tr th {\n",
       "        vertical-align: top;\n",
       "    }\n",
       "\n",
       "    .dataframe thead th {\n",
       "        text-align: right;\n",
       "    }\n",
       "</style>\n",
       "<table border=\"1\" class=\"dataframe\">\n",
       "  <thead>\n",
       "    <tr style=\"text-align: right;\">\n",
       "      <th></th>\n",
       "      <th>T1</th>\n",
       "      <th>L1</th>\n",
       "      <th>H1</th>\n",
       "      <th>S1</th>\n",
       "      <th>V1</th>\n",
       "      <th>X1</th>\n",
       "      <th>D1</th>\n",
       "      <th>N1</th>\n",
       "      <th>T2</th>\n",
       "      <th>L2</th>\n",
       "      <th>...</th>\n",
       "      <th>TBM1</th>\n",
       "      <th>TBM2</th>\n",
       "      <th>TBM3</th>\n",
       "      <th>XL1</th>\n",
       "      <th>XL2</th>\n",
       "      <th>XL3</th>\n",
       "      <th>US_TBM1</th>\n",
       "      <th>US_TBM2</th>\n",
       "      <th>US_TBM3</th>\n",
       "      <th>KQXT</th>\n",
       "    </tr>\n",
       "  </thead>\n",
       "  <tbody>\n",
       "    <tr>\n",
       "      <th>0</th>\n",
       "      <td>7.2</td>\n",
       "      <td>7.3</td>\n",
       "      <td>6.3</td>\n",
       "      <td>7.3</td>\n",
       "      <td>7.0</td>\n",
       "      <td>7.9</td>\n",
       "      <td>7.3</td>\n",
       "      <td>5.5</td>\n",
       "      <td>8.4</td>\n",
       "      <td>8.9</td>\n",
       "      <td>...</td>\n",
       "      <td>7.00</td>\n",
       "      <td>7.54</td>\n",
       "      <td>7.06</td>\n",
       "      <td>K</td>\n",
       "      <td>K</td>\n",
       "      <td>K</td>\n",
       "      <td>2.705882</td>\n",
       "      <td>3.159664</td>\n",
       "      <td>2.756303</td>\n",
       "      <td>NaN</td>\n",
       "    </tr>\n",
       "    <tr>\n",
       "      <th>1</th>\n",
       "      <td>5.4</td>\n",
       "      <td>3.9</td>\n",
       "      <td>3.9</td>\n",
       "      <td>4.0</td>\n",
       "      <td>5.4</td>\n",
       "      <td>5.4</td>\n",
       "      <td>5.3</td>\n",
       "      <td>2.8</td>\n",
       "      <td>6.3</td>\n",
       "      <td>5.4</td>\n",
       "      <td>...</td>\n",
       "      <td>4.69</td>\n",
       "      <td>5.47</td>\n",
       "      <td>4.70</td>\n",
       "      <td>Y</td>\n",
       "      <td>TB</td>\n",
       "      <td>Y</td>\n",
       "      <td>0.764706</td>\n",
       "      <td>1.420168</td>\n",
       "      <td>0.773109</td>\n",
       "      <td>NaN</td>\n",
       "    </tr>\n",
       "    <tr>\n",
       "      <th>2</th>\n",
       "      <td>5.6</td>\n",
       "      <td>6.8</td>\n",
       "      <td>7.2</td>\n",
       "      <td>7.5</td>\n",
       "      <td>4.3</td>\n",
       "      <td>7.4</td>\n",
       "      <td>5.8</td>\n",
       "      <td>3.2</td>\n",
       "      <td>5.0</td>\n",
       "      <td>4.9</td>\n",
       "      <td>...</td>\n",
       "      <td>5.77</td>\n",
       "      <td>5.38</td>\n",
       "      <td>4.33</td>\n",
       "      <td>TB</td>\n",
       "      <td>TB</td>\n",
       "      <td>Y</td>\n",
       "      <td>1.672269</td>\n",
       "      <td>1.344538</td>\n",
       "      <td>0.462185</td>\n",
       "      <td>1.0</td>\n",
       "    </tr>\n",
       "    <tr>\n",
       "      <th>3</th>\n",
       "      <td>6.6</td>\n",
       "      <td>6.4</td>\n",
       "      <td>5.3</td>\n",
       "      <td>6.9</td>\n",
       "      <td>5.4</td>\n",
       "      <td>7.3</td>\n",
       "      <td>6.4</td>\n",
       "      <td>5.8</td>\n",
       "      <td>5.1</td>\n",
       "      <td>6.2</td>\n",
       "      <td>...</td>\n",
       "      <td>6.21</td>\n",
       "      <td>5.20</td>\n",
       "      <td>6.03</td>\n",
       "      <td>TB</td>\n",
       "      <td>TB</td>\n",
       "      <td>TB</td>\n",
       "      <td>2.042017</td>\n",
       "      <td>1.193277</td>\n",
       "      <td>1.890756</td>\n",
       "      <td>NaN</td>\n",
       "    </tr>\n",
       "    <tr>\n",
       "      <th>4</th>\n",
       "      <td>6.0</td>\n",
       "      <td>5.0</td>\n",
       "      <td>6.0</td>\n",
       "      <td>7.3</td>\n",
       "      <td>6.5</td>\n",
       "      <td>7.7</td>\n",
       "      <td>7.9</td>\n",
       "      <td>6.1</td>\n",
       "      <td>5.4</td>\n",
       "      <td>5.5</td>\n",
       "      <td>...</td>\n",
       "      <td>6.50</td>\n",
       "      <td>6.36</td>\n",
       "      <td>7.01</td>\n",
       "      <td>K</td>\n",
       "      <td>TB</td>\n",
       "      <td>K</td>\n",
       "      <td>2.285714</td>\n",
       "      <td>2.168067</td>\n",
       "      <td>2.714286</td>\n",
       "      <td>NaN</td>\n",
       "    </tr>\n",
       "  </tbody>\n",
       "</table>\n",
       "<p>5 rows × 65 columns</p>\n",
       "</div>"
      ],
      "text/plain": [
       "    T1   L1   H1   S1   V1   X1   D1   N1   T2   L2  ...  TBM1  TBM2  TBM3  \\\n",
       "0  7.2  7.3  6.3  7.3  7.0  7.9  7.3  5.5  8.4  8.9  ...  7.00  7.54  7.06   \n",
       "1  5.4  3.9  3.9  4.0  5.4  5.4  5.3  2.8  6.3  5.4  ...  4.69  5.47  4.70   \n",
       "2  5.6  6.8  7.2  7.5  4.3  7.4  5.8  3.2  5.0  4.9  ...  5.77  5.38  4.33   \n",
       "3  6.6  6.4  5.3  6.9  5.4  7.3  6.4  5.8  5.1  6.2  ...  6.21  5.20  6.03   \n",
       "4  6.0  5.0  6.0  7.3  6.5  7.7  7.9  6.1  5.4  5.5  ...  6.50  6.36  7.01   \n",
       "\n",
       "   XL1  XL2  XL3   US_TBM1   US_TBM2   US_TBM3  KQXT  \n",
       "0    K    K    K  2.705882  3.159664  2.756303   NaN  \n",
       "1    Y   TB    Y  0.764706  1.420168  0.773109   NaN  \n",
       "2   TB   TB    Y  1.672269  1.344538  0.462185   1.0  \n",
       "3   TB   TB   TB  2.042017  1.193277  1.890756   NaN  \n",
       "4    K   TB    K  2.285714  2.168067  2.714286   NaN  \n",
       "\n",
       "[5 rows x 65 columns]"
      ]
     },
     "execution_count": 47,
     "metadata": {},
     "output_type": "execute_result"
    }
   ],
   "source": [
    "data.head() #In 5 dòng đầu tiên"
   ]
  },
  {
   "cell_type": "markdown",
   "metadata": {},
   "source": [
    "3.  Lập bảng tần số cho biến phanloait1\n"
   ]
  },
  {
   "cell_type": "code",
   "execution_count": 29,
   "metadata": {},
   "outputs": [],
   "source": [
    "#Nhóm dữ liệu từ data theo các cột 'T1' và 'phanlopt1', sau đó đếm số lượng các dòng trong mỗi nhóm.\n",
    "dataphanlopt1 = data.groupby(['T1', 'phanlopt1'])[['T1', 'phanlopt1']].count()"
   ]
  },
  {
   "cell_type": "code",
   "execution_count": 30,
   "metadata": {},
   "outputs": [],
   "source": [
    "unstackphanlopt1 = dataphanlopt1.unstack()\n",
    "# Chuyển đổi cấu trúc của dataframe dataphanlopt1 từ dạng có \n",
    "# nhiều cấp (multi-index) sang dạng dữ liệu rộng (wide format)."
   ]
  },
  {
   "cell_type": "code",
   "execution_count": 31,
   "metadata": {},
   "outputs": [
    {
     "data": {
      "text/html": [
       "<div>\n",
       "<style scoped>\n",
       "    .dataframe tbody tr th:only-of-type {\n",
       "        vertical-align: middle;\n",
       "    }\n",
       "\n",
       "    .dataframe tbody tr th {\n",
       "        vertical-align: top;\n",
       "    }\n",
       "\n",
       "    .dataframe thead tr th {\n",
       "        text-align: left;\n",
       "    }\n",
       "\n",
       "    .dataframe thead tr:last-of-type th {\n",
       "        text-align: right;\n",
       "    }\n",
       "</style>\n",
       "<table border=\"1\" class=\"dataframe\">\n",
       "  <thead>\n",
       "    <tr>\n",
       "      <th></th>\n",
       "      <th colspan=\"4\" halign=\"left\">T1</th>\n",
       "      <th colspan=\"4\" halign=\"left\">phanlopt1</th>\n",
       "    </tr>\n",
       "    <tr>\n",
       "      <th>phanlopt1</th>\n",
       "      <th>gioi</th>\n",
       "      <th>k</th>\n",
       "      <th>kem</th>\n",
       "      <th>tb</th>\n",
       "      <th>gioi</th>\n",
       "      <th>k</th>\n",
       "      <th>kem</th>\n",
       "      <th>tb</th>\n",
       "    </tr>\n",
       "    <tr>\n",
       "      <th>T1</th>\n",
       "      <th></th>\n",
       "      <th></th>\n",
       "      <th></th>\n",
       "      <th></th>\n",
       "      <th></th>\n",
       "      <th></th>\n",
       "      <th></th>\n",
       "      <th></th>\n",
       "    </tr>\n",
       "  </thead>\n",
       "  <tbody>\n",
       "    <tr>\n",
       "      <th>2.4</th>\n",
       "      <td>NaN</td>\n",
       "      <td>NaN</td>\n",
       "      <td>1.0</td>\n",
       "      <td>NaN</td>\n",
       "      <td>NaN</td>\n",
       "      <td>NaN</td>\n",
       "      <td>1.0</td>\n",
       "      <td>NaN</td>\n",
       "    </tr>\n",
       "    <tr>\n",
       "      <th>2.5</th>\n",
       "      <td>NaN</td>\n",
       "      <td>NaN</td>\n",
       "      <td>1.0</td>\n",
       "      <td>NaN</td>\n",
       "      <td>NaN</td>\n",
       "      <td>NaN</td>\n",
       "      <td>1.0</td>\n",
       "      <td>NaN</td>\n",
       "    </tr>\n",
       "    <tr>\n",
       "      <th>2.6</th>\n",
       "      <td>NaN</td>\n",
       "      <td>NaN</td>\n",
       "      <td>1.0</td>\n",
       "      <td>NaN</td>\n",
       "      <td>NaN</td>\n",
       "      <td>NaN</td>\n",
       "      <td>1.0</td>\n",
       "      <td>NaN</td>\n",
       "    </tr>\n",
       "    <tr>\n",
       "      <th>2.7</th>\n",
       "      <td>NaN</td>\n",
       "      <td>NaN</td>\n",
       "      <td>1.0</td>\n",
       "      <td>NaN</td>\n",
       "      <td>NaN</td>\n",
       "      <td>NaN</td>\n",
       "      <td>1.0</td>\n",
       "      <td>NaN</td>\n",
       "    </tr>\n",
       "    <tr>\n",
       "      <th>2.8</th>\n",
       "      <td>NaN</td>\n",
       "      <td>NaN</td>\n",
       "      <td>1.0</td>\n",
       "      <td>NaN</td>\n",
       "      <td>NaN</td>\n",
       "      <td>NaN</td>\n",
       "      <td>1.0</td>\n",
       "      <td>NaN</td>\n",
       "    </tr>\n",
       "    <tr>\n",
       "      <th>3.0</th>\n",
       "      <td>NaN</td>\n",
       "      <td>NaN</td>\n",
       "      <td>2.0</td>\n",
       "      <td>NaN</td>\n",
       "      <td>NaN</td>\n",
       "      <td>NaN</td>\n",
       "      <td>2.0</td>\n",
       "      <td>NaN</td>\n",
       "    </tr>\n",
       "    <tr>\n",
       "      <th>3.4</th>\n",
       "      <td>NaN</td>\n",
       "      <td>NaN</td>\n",
       "      <td>1.0</td>\n",
       "      <td>NaN</td>\n",
       "      <td>NaN</td>\n",
       "      <td>NaN</td>\n",
       "      <td>1.0</td>\n",
       "      <td>NaN</td>\n",
       "    </tr>\n",
       "    <tr>\n",
       "      <th>3.6</th>\n",
       "      <td>NaN</td>\n",
       "      <td>NaN</td>\n",
       "      <td>2.0</td>\n",
       "      <td>NaN</td>\n",
       "      <td>NaN</td>\n",
       "      <td>NaN</td>\n",
       "      <td>2.0</td>\n",
       "      <td>NaN</td>\n",
       "    </tr>\n",
       "    <tr>\n",
       "      <th>3.7</th>\n",
       "      <td>NaN</td>\n",
       "      <td>NaN</td>\n",
       "      <td>1.0</td>\n",
       "      <td>NaN</td>\n",
       "      <td>NaN</td>\n",
       "      <td>NaN</td>\n",
       "      <td>1.0</td>\n",
       "      <td>NaN</td>\n",
       "    </tr>\n",
       "    <tr>\n",
       "      <th>3.9</th>\n",
       "      <td>NaN</td>\n",
       "      <td>NaN</td>\n",
       "      <td>1.0</td>\n",
       "      <td>NaN</td>\n",
       "      <td>NaN</td>\n",
       "      <td>NaN</td>\n",
       "      <td>1.0</td>\n",
       "      <td>NaN</td>\n",
       "    </tr>\n",
       "  </tbody>\n",
       "</table>\n",
       "</div>"
      ],
      "text/plain": [
       "            T1              phanlopt1             \n",
       "phanlopt1 gioi   k  kem  tb      gioi   k  kem  tb\n",
       "T1                                                \n",
       "2.4        NaN NaN  1.0 NaN       NaN NaN  1.0 NaN\n",
       "2.5        NaN NaN  1.0 NaN       NaN NaN  1.0 NaN\n",
       "2.6        NaN NaN  1.0 NaN       NaN NaN  1.0 NaN\n",
       "2.7        NaN NaN  1.0 NaN       NaN NaN  1.0 NaN\n",
       "2.8        NaN NaN  1.0 NaN       NaN NaN  1.0 NaN\n",
       "3.0        NaN NaN  2.0 NaN       NaN NaN  2.0 NaN\n",
       "3.4        NaN NaN  1.0 NaN       NaN NaN  1.0 NaN\n",
       "3.6        NaN NaN  2.0 NaN       NaN NaN  2.0 NaN\n",
       "3.7        NaN NaN  1.0 NaN       NaN NaN  1.0 NaN\n",
       "3.9        NaN NaN  1.0 NaN       NaN NaN  1.0 NaN"
      ]
     },
     "execution_count": 31,
     "metadata": {},
     "output_type": "execute_result"
    }
   ],
   "source": [
    "#In 10 dòng đầu\n",
    "unstackphanlopt1.head(10)"
   ]
  },
  {
   "cell_type": "markdown",
   "metadata": {},
   "source": [
    "4. Vẽ biểu đồ đường Multiple Line cho biến T1 được phân loại bởi biến phanlopt1"
   ]
  },
  {
   "cell_type": "code",
   "execution_count": 32,
   "metadata": {},
   "outputs": [
    {
     "data": {
      "text/plain": [
       "<AxesSubplot:xlabel='T1', ylabel='Count'>"
      ]
     },
     "execution_count": 32,
     "metadata": {},
     "output_type": "execute_result"
    },
    {
     "data": {
      "image/png": "[encoded data removed]",
      "text/plain": [
       "<Figure size 640x480 with 1 Axes>"
      ]
     },
     "metadata": {},
     "output_type": "display_data"
    }
   ],
   "source": [
    "unstackphanlopt1['phanlopt1'].plot(ylabel='Count') #vẽ biểu đồ từ dữ liệu trong cột 'phanlopt1'"
   ]
  },
  {
   "cell_type": "markdown",
   "metadata": {},
   "source": [
    "5. Vẽ biểu đồ Drop-line cho biến T1 được phân loại bởi biến phanlopt1\n"
   ]
  },
  {
   "cell_type": "code",
   "execution_count": 33,
   "metadata": {},
   "outputs": [
    {
     "data": {
      "text/plain": [
       "<AxesSubplot:xlabel='T1'>"
      ]
     },
     "execution_count": 33,
     "metadata": {},
     "output_type": "execute_result"
    },
    {
     "data": {
      "image/png": "[encoded data removed]",
      "text/plain": [
       "<Figure size 640x480 with 1 Axes>"
      ]
     },
     "metadata": {},
     "output_type": "display_data"
    }
   ],
   "source": [
    "unstackphanlopt1['phanlopt1'].plot.bar() #Vẽ biểu đồ Drop-line cho biến T1"
   ]
  },
  {
   "cell_type": "markdown",
   "metadata": {},
   "source": [
    "### Phần 5: Mô tả dữ liệu và khảo sát dạng phân phối"
   ]
  },
  {
   "cell_type": "markdown",
   "metadata": {},
   "source": [
    "1. Mô tả và khảo sát phân phối cho biến T1"
   ]
  },
  {
   "cell_type": "code",
   "execution_count": 48,
   "metadata": {},
   "outputs": [],
   "source": [
    "#Mô tả độ tập trung và phân tán của dữ liệu T1\n",
    "t1_description = data['T1'].describe()"
   ]
  },
  {
   "cell_type": "code",
   "execution_count": 49,
   "metadata": {},
   "outputs": [
    {
     "data": {
      "text/plain": [
       "count    100.000000\n",
       "mean       5.946000\n",
       "std        1.608338\n",
       "min        2.400000\n",
       "25%        5.000000\n",
       "50%        5.850000\n",
       "75%        7.200000\n",
       "max        9.300000\n",
       "Name: T1, dtype: float64"
      ]
     },
     "execution_count": 49,
     "metadata": {},
     "output_type": "execute_result"
    }
   ],
   "source": [
    "t1_description"
   ]
  },
  {
   "cell_type": "code",
   "execution_count": 52,
   "metadata": {},
   "outputs": [
    {
     "data": {
      "text/plain": [
       "{'whiskers': [<matplotlib.lines.Line2D at 0x1c1adf25570>,\n",
       "  <matplotlib.lines.Line2D at 0x1c1adf25840>],\n",
       " 'caps': [<matplotlib.lines.Line2D at 0x1c1adf25b10>,\n",
       "  <matplotlib.lines.Line2D at 0x1c1adf25de0>],\n",
       " 'boxes': [<matplotlib.lines.Line2D at 0x1c1adf252a0>],\n",
       " 'medians': [<matplotlib.lines.Line2D at 0x1c1adf260b0>],\n",
       " 'fliers': [<matplotlib.lines.Line2D at 0x1c1adf26380>],\n",
       " 'means': []}"
      ]
     },
     "execution_count": 52,
     "metadata": {},
     "output_type": "execute_result"
    },
    {
     "data": {
      "image/png": "[encoded data removed]",
      "text/plain": [
       "<Figure size 640x480 with 1 Axes>"
      ]
     },
     "metadata": {},
     "output_type": "display_data"
    }
   ],
   "source": [
    "# Vẽ biểu đồ Box Plot\n",
    "plt.boxplot(data['T1'], vert=False) "
   ]
  },
  {
   "cell_type": "code",
   "execution_count": 53,
   "metadata": {},
   "outputs": [],
   "source": [
    "# Nhập hàm skew và kurtosis sử dụng để tính toán độ lệch và độ nhọn của dữ liệu.\n",
    "from scipy.stats import skew, kurtosis "
   ]
  },
  {
   "cell_type": "code",
   "execution_count": 54,
   "metadata": {},
   "outputs": [],
   "source": [
    "# Tính độ lệch của dữ liệu 'T1'\n",
    "t1_skewness = skew(data['T1'])\n",
    "    # Giá trị độ lệch bằng 0 cho thấy phân phối hoàn toàn đối xứng.\n",
    "    # Giá trị độ lệch dương cho thấy phân phối có đuôi dài hơn ở phía bên phải.\n",
    "    # Giá trị độ lệch âm cho thấy phân phối có đuôi dài hơn ở phía bên trái."
   ]
  },
  {
   "cell_type": "code",
   "execution_count": 55,
   "metadata": {},
   "outputs": [],
   "source": [
    "#  Tính độ nhọn của dữ liệu 'T1'\n",
    "t1_kurtosis = kurtosis(data['T1'])\n",
    "    # Giá trị độ nhọn bằng 0 cho thấy phân phối có độ nhọn tương tự như phân phối chuẩn.\n",
    "    # Giá trị độ nhọn dương cho thấy phân phối có đuôi nặng hơn so với phân phối chuẩn.\n",
    "    # Giá trị độ nhọn âm cho thấy phân phối có đuôi nhẹ hơn so với phân phối chuẩn (platykurtic)."
   ]
  },
  {
   "cell_type": "code",
   "execution_count": 56,
   "metadata": {},
   "outputs": [
    {
     "name": "stdout",
     "output_type": "stream",
     "text": [
      "Độ lệch của T1\n"
     ]
    },
    {
     "data": {
      "text/plain": [
       "-0.1755583084327443"
      ]
     },
     "execution_count": 56,
     "metadata": {},
     "output_type": "execute_result"
    }
   ],
   "source": [
    "print(\"Độ lệch của T1: \")\n",
    "t1_skewness  # Kết quả độ lệch âm cho thấy phân phối có đuôi dài hơn ở phía bên trái"
   ]
  },
  {
   "cell_type": "code",
   "execution_count": 57,
   "metadata": {},
   "outputs": [
    {
     "name": "stdout",
     "output_type": "stream",
     "text": [
      "Độ nhọn của T1:\n"
     ]
    },
    {
     "data": {
      "text/plain": [
       "-0.5158380739199266"
      ]
     },
     "execution_count": 57,
     "metadata": {},
     "output_type": "execute_result"
    }
   ],
   "source": [
    "print(\"Độ nhọn của T1:\")\n",
    "t1_kurtosis # độ nhọn âm: phân phối có đuôi nhẹ hơn so với phân phối chuẩn"
   ]
  },
  {
   "cell_type": "code",
   "execution_count": 59,
   "metadata": {},
   "outputs": [
    {
     "data": {
      "text/plain": [
       "(array([ 7.,  4.,  5., 12., 22., 15., 11., 12.,  9.,  3.]),\n",
       " array([2.4 , 3.09, 3.78, 4.47, 5.16, 5.85, 6.54, 7.23, 7.92, 8.61, 9.3 ]),\n",
       " <BarContainer object of 10 artists>)"
      ]
     },
     "execution_count": 59,
     "metadata": {},
     "output_type": "execute_result"
    },
    {
     "data": {
      "image/png": "[encoded data removed]",
      "text/plain": [
       "<Figure size 640x480 with 1 Axes>"
      ]
     },
     "metadata": {},
     "output_type": "display_data"
    }
   ],
   "source": [
    "# Vẽ biểu đồ Histogram cho biến T1\n",
    "plt.hist(data['T1'])"
   ]
  },
  {
   "cell_type": "code",
   "execution_count": 63,
   "metadata": {},
   "outputs": [
    {
     "data": {
      "text/plain": [
       "((array([-2.46203784, -2.12570747, -1.93122778, -1.79044653, -1.67819304,\n",
       "         -1.58381122, -1.50174123, -1.42869743, -1.36256869, -1.30191411,\n",
       "         -1.24570419, -1.19317644, -1.14374949, -1.09696931, -1.05247413,\n",
       "         -1.00997067, -0.96921765, -0.93001393, -0.89218993, -0.85560121,\n",
       "         -0.82012357, -0.78564937, -0.75208458, -0.71934648, -0.68736185,\n",
       "         -0.65606548, -0.62539893, -0.59530962, -0.56574992, -0.53667655,\n",
       "         -0.50804994, -0.47983378, -0.45199463, -0.42450149, -0.39732558,\n",
       "         -0.37044003, -0.34381966, -0.31744076, -0.29128096, -0.26531902,\n",
       "         -0.23953472, -0.21390872, -0.18842244, -0.16305799, -0.13779803,\n",
       "         -0.1126257 , -0.08752455, -0.06247843, -0.03747145, -0.01248789,\n",
       "          0.01248789,  0.03747145,  0.06247843,  0.08752455,  0.1126257 ,\n",
       "          0.13779803,  0.16305799,  0.18842244,  0.21390872,  0.23953472,\n",
       "          0.26531902,  0.29128096,  0.31744076,  0.34381966,  0.37044003,\n",
       "          0.39732558,  0.42450149,  0.45199463,  0.47983378,  0.50804994,\n",
       "          0.53667655,  0.56574992,  0.59530962,  0.62539893,  0.65606548,\n",
       "          0.68736185,  0.71934648,  0.75208458,  0.78564937,  0.82012357,\n",
       "          0.85560121,  0.89218993,  0.93001393,  0.96921765,  1.00997067,\n",
       "          1.05247413,  1.09696931,  1.14374949,  1.19317644,  1.24570419,\n",
       "          1.30191411,  1.36256869,  1.42869743,  1.50174123,  1.58381122,\n",
       "          1.67819304,  1.79044653,  1.93122778,  2.12570747,  2.46203784]),\n",
       "  array([2.4, 2.5, 2.6, 2.7, 2.8, 3. , 3. , 3.4, 3.6, 3.6, 3.7, 3.9, 4.1,\n",
       "         4.2, 4.3, 4.4, 4.5, 4.6, 4.7, 4.8, 4.9, 4.9, 4.9, 5. , 5. , 5. ,\n",
       "         5.1, 5.1, 5.2, 5.2, 5.2, 5.2, 5.2, 5.3, 5.3, 5.3, 5.3, 5.3, 5.4,\n",
       "         5.4, 5.4, 5.5, 5.5, 5.5, 5.6, 5.6, 5.7, 5.7, 5.8, 5.8, 5.9, 6. ,\n",
       "         6. , 6. , 6. , 6.1, 6.2, 6.3, 6.3, 6.3, 6.4, 6.4, 6.5, 6.5, 6.5,\n",
       "         6.6, 6.6, 6.7, 6.9, 7. , 7.1, 7.1, 7.2, 7.2, 7.2, 7.2, 7.3, 7.3,\n",
       "         7.3, 7.3, 7.3, 7.5, 7.6, 7.8, 7.9, 7.9, 7.9, 7.9, 8.1, 8.1, 8.2,\n",
       "         8.2, 8.2, 8.3, 8.3, 8.4, 8.6, 8.8, 8.8, 9.3])),\n",
       " (1.6207500811256175, 5.945999999999998, 0.9925076748421668))"
      ]
     },
     "execution_count": 63,
     "metadata": {},
     "output_type": "execute_result"
    },
    {
     "data": {
      "image/png": "[encoded data removed]",
      "text/plain": [
       "<Figure size 640x480 with 1 Axes>"
      ]
     },
     "metadata": {},
     "output_type": "display_data"
    }
   ],
   "source": [
    "# Kiểm chứng phân phối chuẩn QQ-Plot\n",
    "stats.probplot(data['T1'], dist=\"norm\", plot=plt)"
   ]
  },
  {
   "cell_type": "markdown",
   "metadata": {},
   "source": [
    "2. Hãy mô tả và khảo sát phân phối cho biến T1 trên từng nhóm phân lớp (phanlopT1)"
   ]
  },
  {
   "cell_type": "code",
   "execution_count": 72,
   "metadata": {},
   "outputs": [],
   "source": [
    "# Trực quan hóa Box-plot, Histogram và QQ-plot theo phân nhóm của 'phanlopT1'\n",
    "groups = data['phanlopt1'].unique()"
   ]
  },
  {
   "cell_type": "code",
   "execution_count": 73,
   "metadata": {},
   "outputs": [
    {
     "data": {
      "text/plain": [
       "<AxesSubplot:title={'center':'T1'}, xlabel='phanlopt1'>"
      ]
     },
     "execution_count": 73,
     "metadata": {},
     "output_type": "execute_result"
    },
    {
     "data": {
      "image/png": "[encoded data removed]",
      "text/plain": [
       "<Figure size 640x480 with 1 Axes>"
      ]
     },
     "metadata": {},
     "output_type": "display_data"
    }
   ],
   "source": [
    "# Vẽ Box-Plot theo phân nhóm\n",
    "data.boxplot(column='T1', by='phanlopt1', grid=False)"
   ]
  },
  {
   "cell_type": "code",
   "execution_count": 74,
   "metadata": {},
   "outputs": [
    {
     "data": {
      "image/png": "[encoded data removed]",
      "text/plain": [
       "<Figure size 640x480 with 1 Axes>"
      ]
     },
     "metadata": {},
     "output_type": "display_data"
    }
   ],
   "source": [
    "# Vẽ Histogram theo phân nhóm\n",
    "for group in groups:\n",
    "    subset = data[data['phanlopt1'] == group]\n",
    "    plt.hist(subset['T1'], bins=30, alpha=0.5, label=group, edgecolor='k')"
   ]
  },
  {
   "cell_type": "markdown",
   "metadata": {},
   "source": [
    "3.  Khảo sát tương quan giữa biến DH1 theo biến T1"
   ]
  },
  {
   "cell_type": "code",
   "execution_count": 75,
   "metadata": {},
   "outputs": [],
   "source": [
    "# Tính hệ số tương quan giữa 'DH1' và 'T1' \n",
    "    # Hệ số tương quan bằng 1 cho thấy mối quan hệ tuyến tính hoàn hảo dương.\n",
    "    # Hệ số tương quan bằng -1 cho thấy mối quan hệ tuyến tính hoàn hảo âm.\n",
    "    # Hệ số tương quan bằng 0 cho thấy không có mối quan hệ tuyến tính.\n",
    "correlation = data['DH1'].corr(data['T1'])"
   ]
  },
  {
   "cell_type": "code",
   "execution_count": 76,
   "metadata": {},
   "outputs": [
    {
     "data": {
      "text/plain": [
       "0.04925439216104145"
      ]
     },
     "execution_count": 76,
     "metadata": {},
     "output_type": "execute_result"
    }
   ],
   "source": [
    "correlation"
   ]
  },
  {
   "cell_type": "code",
   "execution_count": 77,
   "metadata": {},
   "outputs": [
    {
     "data": {
      "text/plain": [
       "<matplotlib.collections.PathCollection at 0x1c1bf7ba8c0>"
      ]
     },
     "execution_count": 77,
     "metadata": {},
     "output_type": "execute_result"
    },
    {
     "data": {
      "image/png": "[encoded data removed]",
      "text/plain": [
       "<Figure size 640x480 with 1 Axes>"
      ]
     },
     "metadata": {},
     "output_type": "display_data"
    }
   ],
   "source": [
    "# Vẽ biểu đồ phân tán\n",
    "plt.scatter(data['T1'], data['DH1'])"
   ]
  },
  {
   "cell_type": "markdown",
   "metadata": {},
   "source": [
    "4. Khảo sát tương quan giữa biến DH1 theo biến T1 trên từng nhóm khu vực"
   ]
  },
  {
   "cell_type": "code",
   "execution_count": 78,
   "metadata": {},
   "outputs": [],
   "source": [
    "# # Tạo cột 'region' với các giá trị ngẫu nhiên từ ['North', 'South', 'Central']\n",
    "data['region'] = np.random.choice(['North', 'South', 'Central'], size=len(data))"
   ]
  },
  {
   "cell_type": "code",
   "execution_count": 79,
   "metadata": {},
   "outputs": [],
   "source": [
    "# Lấy danh sách các nhóm duy nhất từ cột 'region' của DataFrame 'data'\n",
    "groups = data['region'].unique()"
   ]
  },
  {
   "cell_type": "code",
   "execution_count": 80,
   "metadata": {},
   "outputs": [
    {
     "data": {
      "image/png": "[encoded data removed]",
      "text/plain": [
       "<Figure size 640x480 with 1 Axes>"
      ]
     },
     "metadata": {},
     "output_type": "display_data"
    }
   ],
   "source": [
    "# Vẽ biểu đồ phân tán cho từng nhóm trong 'region'\n",
    "for group in groups:\n",
    "    subset = data[data['region'] == group]\n",
    "    plt.scatter(subset['T1'], subset['DH1'])"
   ]
  },
  {
   "cell_type": "markdown",
   "metadata": {},
   "source": [
    "5. Khảo sát tương quan giữa các biến DH1, DH2, DH3\n"
   ]
  },
  {
   "cell_type": "code",
   "execution_count": 81,
   "metadata": {},
   "outputs": [],
   "source": [
    "# Tính toán ma trận tương quan giữa 'DH1', 'DH2', 'DH3'\n",
    "correlation_matrix = data[['DH1', 'DH2', 'DH3']].corr()"
   ]
  },
  {
   "cell_type": "code",
   "execution_count": 82,
   "metadata": {},
   "outputs": [
    {
     "data": {
      "text/html": [
       "<div>\n",
       "<style scoped>\n",
       "    .dataframe tbody tr th:only-of-type {\n",
       "        vertical-align: middle;\n",
       "    }\n",
       "\n",
       "    .dataframe tbody tr th {\n",
       "        vertical-align: top;\n",
       "    }\n",
       "\n",
       "    .dataframe thead th {\n",
       "        text-align: right;\n",
       "    }\n",
       "</style>\n",
       "<table border=\"1\" class=\"dataframe\">\n",
       "  <thead>\n",
       "    <tr style=\"text-align: right;\">\n",
       "      <th></th>\n",
       "      <th>DH1</th>\n",
       "      <th>DH2</th>\n",
       "      <th>DH3</th>\n",
       "    </tr>\n",
       "  </thead>\n",
       "  <tbody>\n",
       "    <tr>\n",
       "      <th>DH1</th>\n",
       "      <td>1.000000</td>\n",
       "      <td>0.035154</td>\n",
       "      <td>0.018731</td>\n",
       "    </tr>\n",
       "    <tr>\n",
       "      <th>DH2</th>\n",
       "      <td>0.035154</td>\n",
       "      <td>1.000000</td>\n",
       "      <td>-0.091523</td>\n",
       "    </tr>\n",
       "    <tr>\n",
       "      <th>DH3</th>\n",
       "      <td>0.018731</td>\n",
       "      <td>-0.091523</td>\n",
       "      <td>1.000000</td>\n",
       "    </tr>\n",
       "  </tbody>\n",
       "</table>\n",
       "</div>"
      ],
      "text/plain": [
       "          DH1       DH2       DH3\n",
       "DH1  1.000000  0.035154  0.018731\n",
       "DH2  0.035154  1.000000 -0.091523\n",
       "DH3  0.018731 -0.091523  1.000000"
      ]
     },
     "execution_count": 82,
     "metadata": {},
     "output_type": "execute_result"
    }
   ],
   "source": [
    "correlation_matrix"
   ]
  },
  {
   "cell_type": "code",
   "execution_count": 83,
   "metadata": {},
   "outputs": [
    {
     "data": {
      "text/plain": [
       "array([[<AxesSubplot:xlabel='DH1', ylabel='DH1'>,\n",
       "        <AxesSubplot:xlabel='DH2', ylabel='DH1'>,\n",
       "        <AxesSubplot:xlabel='DH3', ylabel='DH1'>],\n",
       "       [<AxesSubplot:xlabel='DH1', ylabel='DH2'>,\n",
       "        <AxesSubplot:xlabel='DH2', ylabel='DH2'>,\n",
       "        <AxesSubplot:xlabel='DH3', ylabel='DH2'>],\n",
       "       [<AxesSubplot:xlabel='DH1', ylabel='DH3'>,\n",
       "        <AxesSubplot:xlabel='DH2', ylabel='DH3'>,\n",
       "        <AxesSubplot:xlabel='DH3', ylabel='DH3'>]], dtype=object)"
      ]
     },
     "execution_count": 83,
     "metadata": {},
     "output_type": "execute_result"
    },
    {
     "data": {
      "image/png": "[encoded data removed]",
      "text/plain": [
       "<Figure size 1000x1000 with 9 Axes>"
      ]
     },
     "metadata": {},
     "output_type": "display_data"
    }
   ],
   "source": [
    "# Vẽ ma trận scatter plot cho các biến 'DH1', 'DH2', và 'DH3'\n",
    "pd.plotting.scatter_matrix(data[['DH1', 'DH2', 'DH3']], figsize=(10, 10))"
   ]
  }
 ],
 "metadata": {
  "kernelspec": {
   "display_name": "Python 3",
   "language": "python",
   "name": "python3"
  },
  "language_info": {
   "codemirror_mode": {
    "name": "ipython",
    "version": 3
   },
   "file_extension": ".py",
   "mimetype": "text/x-python",
   "name": "python",
   "nbconvert_exporter": "python",
   "pygments_lexer": "ipython3",
   "version": "3.10.0"
  }
 },
 "nbformat": 4,
 "nbformat_minor": 2
}
