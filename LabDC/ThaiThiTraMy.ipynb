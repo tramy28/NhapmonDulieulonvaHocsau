{
 "cells": [
  {
   "cell_type": "markdown",
   "metadata": {},
   "source": [
    "# LAB ĐIỂM CỘNG\n"
   ]
  },
  {
   "cell_type": "markdown",
   "metadata": {},
   "source": [
    "## Python (15)"
   ]
  },
  {
   "cell_type": "markdown",
   "metadata": {},
   "source": [
    "### Q1 (1)\n",
    "Rename this file as `{fullname}.ipynb`."
   ]
  },
  {
   "cell_type": "markdown",
   "metadata": {},
   "source": [
    "### Q2 (1)\n",
    "Create variable name `my_name` as string and assign your name to this variable.\n",
    "Print the `my_name`."
   ]
  },
  {
   "cell_type": "code",
   "execution_count": 1,
   "metadata": {},
   "outputs": [
    {
     "name": "stdout",
     "output_type": "stream",
     "text": [
      "Thai Thi Tra My\n"
     ]
    }
   ],
   "source": [
    "my_name = \"Thai Thi Tra My\"\n",
    "print(my_name)"
   ]
  },
  {
   "cell_type": "markdown",
   "metadata": {},
   "source": [
    "### Q3 (2)\n",
    "Develop class `CPStudent` with the following attributes\n",
    "\n",
    "- `student_id`:str -> vlu student id that start with `st`\n",
    "- `name`:str -> Name of the associated student\n",
    "- `score`:float -> Score of the midterm exam. The range is `[0.0, 100.0]`\n",
    "\n",
    "During the object creation, assign `student_id` and `name`. The `score` is set as `0.0` by default.\n",
    "\n",
    "`s1 = DAstudent('207CT20000', 'Mr. Jo')`"
   ]
  },
  {
   "cell_type": "code",
   "execution_count": 22,
   "metadata": {},
   "outputs": [],
   "source": [
    "class CPStudent: #Định nghĩa lớp có tên CPStudent\n",
    "    def __init__(self, student_id: str, name: str, score: float = 0.0):\n",
    "        # Nhận 3 tham số: student_id, name: chuỗi và score: số thực, giá trị mặc định 0.0 \n",
    "        self.Student_id = None\n",
    "        self.student_id = student_id #Gán giá trị studenr_id vào thuộc tính student_id. Gọi setter\n",
    "        self.name = name #Gán giá trị name vào thuộc tính name của đối tượng\n",
    "        self.Score= None\n",
    "        self.score = score #Gọi phương thức setter của score\n",
    "        \n",
    "    @property \n",
    "    def student_id(self): #Định nghĩa phương thức getter chi thuộc tính 'student_id'\n",
    "        return self.Student_id #Trả về giá trị của thuộc tính riêng tư 'Student_id'\n",
    "    \n",
    "    @student_id.setter #Định nghĩa phương thức setter cho thuộc tính 'student_id'\n",
    "    def student_id(self, value: str):  # Định nghĩa phương thức setter nhận vào tham số \"value\"\n",
    "        if not value.startswith(\"st\"): #Nếu value không bắt dầu bằng 'st' \n",
    "            raise ValueError(\"Student_id phải bắt đầu bằng'st'!\") #Thông báo lỗi\n",
    "        self.Student_id = value #gán giá trị nếu hợp lệ\n",
    "\n",
    "    @property\n",
    "    def score(self):  # Định nghĩa phương thức getter cho thuộc tính 'score'\n",
    "        return self.Score\n",
    "    \n",
    "    @score.setter\n",
    "    def score(self, value: float):   #Định nghĩa phương thức setter nhận vào tham số 'value'\n",
    "        if not (0.0 <= value <= 100.0): #Kiểm tra điều kiện value          \n",
    "            raise ValueError(\"Điểm phải nằm trong khoảng từ 0.0 đến 100.0\") # Thông báo lỗi\n",
    "        self.Score = value #gán giá trị\n",
    "\n",
    "    def __repr__(self): #Định nghĩa phương thức trả vè chuỗi\n",
    "        return f\"Student_id: {self.student_id}\\nName: {self.name}\\nScore: {self.score}\"\n"
   ]
  },
  {
   "cell_type": "code",
   "execution_count": 23,
   "metadata": {},
   "outputs": [
    {
     "data": {
      "text/plain": [
       "Student_id: st2174802010891\n",
       "Name: Thai Thi Tra My\n",
       "Score: 0.0"
      ]
     },
     "execution_count": 23,
     "metadata": {},
     "output_type": "execute_result"
    }
   ],
   "source": [
    "s1 = CPStudent(\"st2174802010891\", \"Thai Thi Tra My\")\n",
    "s1"
   ]
  },
  {
   "cell_type": "code",
   "execution_count": 26,
   "metadata": {},
   "outputs": [
    {
     "data": {
      "text/plain": [
       "Student_id: st217480208889\n",
       "Name: Nguyen Van A\n",
       "Score: 90"
      ]
     },
     "execution_count": 26,
     "metadata": {},
     "output_type": "execute_result"
    }
   ],
   "source": [
    "s2 = CPStudent(\"st217480208889\", \"Nguyen Van A\", 90)\n",
    "s2"
   ]
  },
  {
   "cell_type": "markdown",
   "metadata": {},
   "source": [
    "### Q4 (2)\n",
    "\n",
    "Modify the class `DAStudent` to have function `LAB that takes `float` as the input.\n",
    "This function will assign the input to `DAStudent.score`.\n",
    "\n",
    "Example\n",
    "\n",
    "```python\n",
    "s1.lab(50.5)\n",
    "print(s1.score)\n",
    ">>> 50.5\n",
    "```\n",
    "\n",
    "### Q5 (3)\n",
    "\n",
    "Check the correctness of the input. Inform the user when the input is wrong.\n",
    "\n",
    "*Hint: You will only get full mark if you use `raise`.*\n",
    "\n",
    "Example 1:\n",
    "\n",
    "```python\n",
    "s1.lab(150)\n",
    ">>> ValueError: Some message\n",
    "```\n",
    "\n",
    "Example 2:\n",
    "\n",
    "```python\n",
    "s1.lab('150')\n",
    ">>> ValueError: Some message\n",
    "```"
   ]
  },
  {
   "cell_type": "markdown",
   "metadata": {},
   "source": [
    "Code Q4:"
   ]
  },
  {
   "cell_type": "code",
   "execution_count": 28,
   "metadata": {},
   "outputs": [],
   "source": [
    "class CPStudent:\n",
    "    def __init__(self, student_id: str, name: str, score: float = 0.0):\n",
    "        self._student_id = None\n",
    "        self.student_id = student_id\n",
    "        self.name = name\n",
    "        self._score = None\n",
    "        self.score = score\n",
    "    \n",
    "    @property\n",
    "    def student_id(self):\n",
    "        return self._student_id\n",
    "    \n",
    "    @student_id.setter\n",
    "    def student_id(self, value: str):\n",
    "        if not value.startswith(\"st\"):\n",
    "            raise ValueError(\"Student_id phải bắt đầu bằng 'st'\")\n",
    "        self._student_id = value\n",
    "    \n",
    "    @property\n",
    "    def score(self):\n",
    "        return self._score\n",
    "    \n",
    "    @score.setter\n",
    "    def score(self, value: float):\n",
    "        if not (0.0 <= value <= 100.0):\n",
    "            raise ValueError(\"Điểm phải nằm trong khoảng từ 0.0 đến 100.0\")\n",
    "        self._score = value\n",
    "    \n",
    "    def lab(self, new_score: float):\n",
    "        self.score = new_score\n",
    "\n",
    "    def __repr__(self):\n",
    "        return f\"Student_id: {self.student_id}\\nName: {self.name}\\nScore: {self.score}\"\n"
   ]
  },
  {
   "cell_type": "code",
   "execution_count": 29,
   "metadata": {},
   "outputs": [
    {
     "data": {
      "text/plain": [
       "50.5"
      ]
     },
     "execution_count": 29,
     "metadata": {},
     "output_type": "execute_result"
    }
   ],
   "source": [
    "s1 = CPStudent('st2174802010891', 'Thai Thi Tra My')\n",
    "s1.lab(50.5)\n",
    "s1.score "
   ]
  },
  {
   "cell_type": "markdown",
   "metadata": {},
   "source": [
    "Code Q5:"
   ]
  },
  {
   "cell_type": "code",
   "execution_count": 30,
   "metadata": {},
   "outputs": [
    {
     "name": "stdout",
     "output_type": "stream",
     "text": [
      "Điểm phải nằm trong khoảng từ 0.0 đến 100.0\n",
      "Điểm phải là một số\n"
     ]
    }
   ],
   "source": [
    "class CPStudent:\n",
    "    def __init__(self, student_id: str, name: str, score: float = 0.0):\n",
    "        self._student_id = None\n",
    "        self.student_id = student_id\n",
    "        self.name = name\n",
    "        self._score = None\n",
    "        self.score = score\n",
    "    \n",
    "    @property\n",
    "    def student_id(self):\n",
    "        return self._student_id\n",
    "    \n",
    "    @student_id.setter\n",
    "    def student_id(self, value: str):\n",
    "        if not value.startswith(\"st\"):\n",
    "            raise ValueError(\"Student_id phải bắt đầu bằng 'st'\")\n",
    "        self._student_id = value\n",
    "    \n",
    "    @property\n",
    "    def score(self):\n",
    "        return self._score\n",
    "    \n",
    "    @score.setter\n",
    "    def score(self, value: float):\n",
    "        self._validate_score(value)\n",
    "        self._score = value\n",
    "    \n",
    "    def _validate_score(self, value):\n",
    "        if not isinstance(value, (int, float)):\n",
    "            raise ValueError(\"Điểm phải là một số\")\n",
    "        if not (0.0 <= value <= 100.0):\n",
    "            raise ValueError(\"Điểm phải nằm trong khoảng từ 0.0 đến 100.0\")\n",
    "    \n",
    "    def lab(self, new_score: float):\n",
    "        self._validate_score(new_score)\n",
    "        self.score = new_score\n",
    "\n",
    "    def __repr__(self):\n",
    "        return f\"Student_id: {self.student_id}\\nName: {self.name}\\nScore: {self.score}\"\n",
    "\n",
    "# Ví dụ sử dụng với xử lý lỗi\n",
    "s1 = CPStudent('st2174802010891', 'Thai Thi Tra My')\n",
    "try:\n",
    "    s1.lab(150)\n",
    "except ValueError as e:\n",
    "    print(e) \n",
    "\n",
    "try:\n",
    "    s1.lab('150')\n",
    "except ValueError as e:\n",
    "    print(e) \n"
   ]
  },
  {
   "cell_type": "markdown",
   "metadata": {},
   "source": [
    "### Q6 (6)\n",
    "\n",
    "Once upon a time in the magical land, there are two engineer beavers living together. \n",
    "\n",
    "\n",
    "Their hobby is to build a dam out of wood.\n",
    "\n",
    "\n",
    "Years and years, dam after another dam, one of engineer beaver get bored. The beaver wants a better life. A more accurate calculation of dam not just keep building it anymore.\n",
    "\n",
    "\n",
    "Now, they are deploying a rain sensor to collect data which will be used to predict water level of the river.\n",
    "\n",
    "Finally, with their new skill set and hardworking, a predictor is obtained. They named their invention `The Oracle of the Dam (TOTD)`.\n",
    "\n",
    "However, the `TOTD` only predicts the water level. \n",
    "\n",
    "The engineer/data scientist beavers still needs to build the dam themselves but this time, it will be the most efficient dam of the beaver land ever.\n",
    "\n",
    "Every 2 meters of the water level, the dam needs to be build 1 level higher. And every log (*) uses will cost $3.5.\n",
    "\n",
    "Here is how the 3-level dam look like from the cross section view\n",
    "\n",
    "```\n",
    "l_3   *\n",
    "l_2  ***\n",
    "l_1 *****\n",
    "```\n",
    "\n",
    "Here is how much this project will cost\n",
    "\n",
    "```\n",
    "Number of logs: 9\n",
    "Cost: $31.5\n",
    "```\n",
    "\n",
    "\n",
    "Your task is simple, write a function `dam_design` that takes `water_level` as an input. Print the design of the dam and summarize the material and cost.\n",
    "\n",
    "Example 1:\n",
    "```python\n",
    "dam_design(0)\n",
    ">>> *\n",
    ">>> Number of logs: 1\n",
    ">>> Cost: $3.5\n",
    "```\n",
    "\n",
    "Example 2:\n",
    "```python\n",
    "dam_design(1)\n",
    ">>> *\n",
    ">>> Number of logs: 1\n",
    ">>> Cost: $3.5\n",
    "```\n",
    "\n",
    "Example 3:\n",
    "```python\n",
    "dam_design(2)\n",
    ">>>  *\n",
    ">>> ***\n",
    ">>> Number of logs: 4\n",
    ">>> Cost: $14.0\n",
    "```\n",
    "\n",
    "Example 4:\n",
    "```python\n",
    "dam_design(3)\n",
    ">>>  *\n",
    ">>> ***\n",
    ">>> Number of logs: 4\n",
    ">>> Cost: $14.0\n",
    "```\n",
    "\n",
    "Example 5:\n",
    "```python\n",
    "dam_design(4)\n",
    ">>>   *\n",
    ">>>  ***\n",
    ">>> *****\n",
    ">>> Number of logs: 9\n",
    ">>> Cost: $31.5\n",
    "```"
   ]
  },
  {
   "cell_type": "code",
   "execution_count": 31,
   "metadata": {},
   "outputs": [],
   "source": [
    "import math"
   ]
  },
  {
   "cell_type": "code",
   "execution_count": 81,
   "metadata": {},
   "outputs": [],
   "source": [
    "def dam_design(muc_nuoc):\n",
    "    # Tính số tầng của đập dựa trên mức nước\n",
    "    if muc_nuoc < 0:\n",
    "        print(\"Giá trị không hợp lệ.\")\n",
    "        return 0\n",
    "\n",
    "    so_tang = (muc_nuoc // 2) + 1\n",
    "    so_dau_sao = 0\n",
    "\n",
    "    for tang in range(so_tang):\n",
    "        khoang_trong = ' ' * (2 * (so_tang - tang - 1))\n",
    "        sao = '* ' * (2 * tang + 1)\n",
    "        print(khoang_trong + sao.strip())\n",
    "        so_dau_sao += (2 * tang + 1)\n",
    "\n",
    "\n",
    "    \n",
    "    # Tính số cây gỗ và chi phí tương ứng\n",
    "    so_cay_go = sum(range(1, int(so_tang) + 1))\n",
    "    chi_phi = so_cay_go * 3.5\n",
    "    \n",
    "   \n",
    "    \n",
    "    # In tổng kết số cây gỗ và chi phí\n",
    "    print(f\"Số cây gỗ: {so_cay_go}\")\n",
    "    print(f\"Chi phí: ${chi_phi:.1f}\")"
   ]
  },
  {
   "cell_type": "code",
   "execution_count": 82,
   "metadata": {},
   "outputs": [
    {
     "name": "stdout",
     "output_type": "stream",
     "text": [
      "*\n",
      "Số cây gỗ: 1\n",
      "Chi phí: $3.5\n"
     ]
    }
   ],
   "source": [
    "dam_design(0)"
   ]
  },
  {
   "cell_type": "code",
   "execution_count": 83,
   "metadata": {},
   "outputs": [
    {
     "name": "stdout",
     "output_type": "stream",
     "text": [
      "*\n",
      "Số cây gỗ: 1\n",
      "Chi phí: $3.5\n"
     ]
    }
   ],
   "source": [
    "dam_design(1)"
   ]
  },
  {
   "cell_type": "code",
   "execution_count": 84,
   "metadata": {},
   "outputs": [
    {
     "name": "stdout",
     "output_type": "stream",
     "text": [
      "  *\n",
      "* * *\n",
      "Số cây gỗ: 3\n",
      "Chi phí: $10.5\n"
     ]
    }
   ],
   "source": [
    "dam_design(2)"
   ]
  },
  {
   "cell_type": "code",
   "execution_count": 85,
   "metadata": {},
   "outputs": [
    {
     "name": "stdout",
     "output_type": "stream",
     "text": [
      "  *\n",
      "* * *\n",
      "Số cây gỗ: 3\n",
      "Chi phí: $10.5\n"
     ]
    }
   ],
   "source": [
    "dam_design(3)"
   ]
  },
  {
   "cell_type": "code",
   "execution_count": 86,
   "metadata": {},
   "outputs": [
    {
     "name": "stdout",
     "output_type": "stream",
     "text": [
      "    *\n",
      "  * * *\n",
      "* * * * *\n",
      "Số cây gỗ: 6\n",
      "Chi phí: $21.0\n"
     ]
    }
   ],
   "source": [
    "dam_design(4)"
   ]
  }
 ],
 "metadata": {
  "kernelspec": {
   "display_name": "Python 3.10.4 64-bit",
   "language": "python",
   "name": "python3"
  },
  "language_info": {
   "codemirror_mode": {
    "name": "ipython",
    "version": 3
   },
   "file_extension": ".py",
   "mimetype": "text/x-python",
   "name": "python",
   "nbconvert_exporter": "python",
   "pygments_lexer": "ipython3",
   "version": "3.10.0"
  },
  "orig_nbformat": 4,
  "vscode": {
   "interpreter": {
    "hash": "916dbcbb3f70747c44a77c7bcd40155683ae19c65e1c03b4aa3499c5328201f1"
   }
  }
 },
 "nbformat": 4,
 "nbformat_minor": 2
}
