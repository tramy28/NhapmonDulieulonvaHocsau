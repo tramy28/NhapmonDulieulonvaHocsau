{
 "cells": [
  {
   "cell_type": "markdown",
   "metadata": {},
   "source": [
    "### **LAB 3: LÀM SẠCH DỮ LIỆU CƠ BẢN**"
   ]
  },
  {
   "cell_type": "code",
   "execution_count": 38,
   "metadata": {},
   "outputs": [],
   "source": [
    "import pandas as pd"
   ]
  },
  {
   "cell_type": "code",
   "execution_count": 39,
   "metadata": {},
   "outputs": [],
   "source": [
    "# Đọc dữ liệu đầu vào\n",
    "df = pd.read_csv(r'patient_heart_rate.csv')"
   ]
  },
  {
   "cell_type": "code",
   "execution_count": 40,
   "metadata": {},
   "outputs": [
    {
     "name": "stdout",
     "output_type": "stream",
     "text": [
      "       1    Mickéy Mousé    56       70kgs   72   69   71    -  -.1  -.2\n",
      "0    2.0     Donald Duck  34.0   154.89lbs    -    -    -   85   84   76\n",
      "1    3.0      Mini Mouse  16.0         NaN    -    -    -   65   69   72\n",
      "2    4.0  Scrooge McDuck   NaN       78kgs   78   79   72    -    -    -\n",
      "3    5.0    Pink Panther  54.0  198.658lbs    -    -    -   69  NaN   75\n",
      "4    6.0     Huey McDuck  52.0      189lbs    -    -    -   68   75   72\n",
      "5    7.0    Dewey McDuck  19.0       56kgs    -    -    -   71   78   75\n",
      "6    8.0      Scööpy Doo  32.0       78kgs   78   76   75    -    -    -\n",
      "7    NaN             NaN   NaN         NaN  NaN  NaN  NaN  NaN  NaN  NaN\n",
      "8    NaN             NaN   NaN         NaN  NaN  NaN  NaN  NaN  NaN  NaN\n",
      "9    NaN             NaN   NaN         NaN  NaN  NaN  NaN  NaN  NaN  NaN\n",
      "10   9.0     Huey McDuck  52.0      189lbs    -    -    -   68   75   72\n",
      "11  10.0    Louie McDuck  12.0       45kgs    -    -    -   92   95   87\n",
      "12  11.0       Henry Nam   NaN       60kgs   78   75   72    -    -    -\n",
      "13  12.0     Michel Long  34.0         NaN   65   67   55    -    -    -\n",
      "14  13.0      Tana Ricky   NaN         NaN    -    -    -   68   72   70\n",
      "15  14.0        UniLever   NaN         NaN  NaN  NaN  NaN  NaN  NaN  NaN\n",
      "16  15.0             NaN  52.0      180lbs    -    -    -   68   75   72\n"
     ]
    }
   ],
   "source": [
    "print(df)"
   ]
  },
  {
   "cell_type": "markdown",
   "metadata": {},
   "source": [
    "**Vấn đề 1:** Tiến hành tải dữ liệu vào chương trình ứng dụng Python và giải quyết vấn đề \"Missing header in the csv file\"\n"
   ]
  },
  {
   "cell_type": "code",
   "execution_count": 41,
   "metadata": {},
   "outputs": [],
   "source": [
    "# Thêm header vào dfframe để diễn giải dữ liệu\n",
    "column_names=[\"Id\", \"Name\", \"Age\", \"Weight\", 'm0006', 'm0612', 'm1218', 'f0006', 'f0612', 'f1218']\n"
   ]
  },
  {
   "cell_type": "code",
   "execution_count": 42,
   "metadata": {},
   "outputs": [],
   "source": [
    "# Gán tiêu đề cho DataFrame\n",
    "df.columns = column_names"
   ]
  },
  {
   "cell_type": "code",
   "execution_count": 43,
   "metadata": {},
   "outputs": [],
   "source": [
    "# Đọc file dữ liệu\n",
    "df = pd.read_csv('patient_heart_rate.csv', names= column_names)\n"
   ]
  },
  {
   "cell_type": "code",
   "execution_count": 44,
   "metadata": {},
   "outputs": [
    {
     "name": "stdout",
     "output_type": "stream",
     "text": [
      "    Id            Name   Age      Weight m0006 m0612 m1218 f0006 f0612 f1218\n",
      "0  1.0    Mickéy Mousé  56.0       70kgs    72    69    71     -     -     -\n",
      "1  2.0     Donald Duck  34.0   154.89lbs     -     -     -    85    84    76\n",
      "2  3.0      Mini Mouse  16.0         NaN     -     -     -    65    69    72\n",
      "3  4.0  Scrooge McDuck   NaN       78kgs    78    79    72     -     -     -\n",
      "4  5.0    Pink Panther  54.0  198.658lbs     -     -     -    69   NaN    75\n"
     ]
    }
   ],
   "source": [
    "# Hiển thị 5 dòng đầu tiên của dữ liệu\n",
    "print(df.head())"
   ]
  },
  {
   "cell_type": "markdown",
   "metadata": {},
   "source": [
    "**Vấn đề 2:** Xử lý vấn đề một cột lưu hỗn hợp nhiều dữ liệu, ở đây là cột \"Name\" chứa bao gồm \"Firstname\" và \"Lastname\", giải pháp là ta sẽ tách ra làm 2 cột"
   ]
  },
  {
   "cell_type": "code",
   "execution_count": 45,
   "metadata": {},
   "outputs": [],
   "source": [
    "#Tách cột 'Name' thành 2 cột 'Firstname' và 'Lastname'\n",
    "df[['Firstname','Lastname']] = df['Name'].str.split(expand=True)\n",
    "    # split(expand=True): phương thức tách trên cột Name, không có kí tự phân cách\n",
    "    #       cụ thể nunw mặc định sẽ tách theo khoảng trắng\n",
    "    # expand=True: một dfframe mới được tạo ra từ việc tách chuỗi\n",
    "    # df[['Firstname','Lastname']]: gán kết quả tách lần lượt vào 2 cột Firstname và Lastname"
   ]
  },
  {
   "cell_type": "code",
   "execution_count": 46,
   "metadata": {},
   "outputs": [
    {
     "name": "stdout",
     "output_type": "stream",
     "text": [
      "      Id   Age      Weight m0006 m0612 m1218 f0006 f0612 f1218 Firstname  \\\n",
      "0    1.0  56.0       70kgs    72    69    71     -     -     -    Mickéy   \n",
      "1    2.0  34.0   154.89lbs     -     -     -    85    84    76    Donald   \n",
      "2    3.0  16.0         NaN     -     -     -    65    69    72      Mini   \n",
      "3    4.0   NaN       78kgs    78    79    72     -     -     -   Scrooge   \n",
      "4    5.0  54.0  198.658lbs     -     -     -    69   NaN    75      Pink   \n",
      "5    6.0  52.0      189lbs     -     -     -    68    75    72      Huey   \n",
      "6    7.0  19.0       56kgs     -     -     -    71    78    75     Dewey   \n",
      "7    8.0  32.0       78kgs    78    76    75     -     -     -    Scööpy   \n",
      "8    NaN   NaN         NaN   NaN   NaN   NaN   NaN   NaN   NaN       NaN   \n",
      "9    NaN   NaN         NaN   NaN   NaN   NaN   NaN   NaN   NaN       NaN   \n",
      "10   NaN   NaN         NaN   NaN   NaN   NaN   NaN   NaN   NaN       NaN   \n",
      "11   9.0  52.0      189lbs     -     -     -    68    75    72      Huey   \n",
      "12  10.0  12.0       45kgs     -     -     -    92    95    87     Louie   \n",
      "13  11.0   NaN       60kgs    78    75    72     -     -     -     Henry   \n",
      "14  12.0  34.0         NaN    65    67    55     -     -     -    Michel   \n",
      "15  13.0   NaN         NaN     -     -     -    68    72    70      Tana   \n",
      "16  14.0   NaN         NaN   NaN   NaN   NaN   NaN   NaN   NaN  UniLever   \n",
      "17  15.0  52.0      180lbs     -     -     -    68    75    72       NaN   \n",
      "\n",
      "   Lastname  \n",
      "0     Mousé  \n",
      "1      Duck  \n",
      "2     Mouse  \n",
      "3    McDuck  \n",
      "4   Panther  \n",
      "5    McDuck  \n",
      "6    McDuck  \n",
      "7       Doo  \n",
      "8       NaN  \n",
      "9       NaN  \n",
      "10      NaN  \n",
      "11   McDuck  \n",
      "12   McDuck  \n",
      "13      Nam  \n",
      "14     Long  \n",
      "15    Ricky  \n",
      "16     None  \n",
      "17      NaN  \n"
     ]
    }
   ],
   "source": [
    "#Xóa cột Name khỏi df\n",
    "df = df.drop('Name', axis=1) \n",
    "print (df) #In kết quả đã thay đổi"
   ]
  },
  {
   "cell_type": "markdown",
   "metadata": {},
   "source": [
    "**Vấn đề 3:** Cột Weight có vấn đề về không thống nhất các đơn vị đo lường trong dữ liệu. Ta sẽ chuyển các đơn vị về thành đơn vị chuẩn \"kg\""
   ]
  },
  {
   "cell_type": "code",
   "execution_count": 47,
   "metadata": {},
   "outputs": [],
   "source": [
    "# Gán dữ liệu của cột Weight vào biến weight\n",
    "weight = df['Weight']"
   ]
  },
  {
   "cell_type": "code",
   "execution_count": 49,
   "metadata": {},
   "outputs": [
    {
     "name": "stdout",
     "output_type": "stream",
     "text": [
      "      Id   Age Weight m0006 m0612 m1218 f0006 f0612 f1218 Firstname Lastname\n",
      "0    1.0  56.0  70kgs    72    69    71     -     -     -    Mickéy    Mousé\n",
      "1    2.0  34.0  70kgs     -     -     -    85    84    76    Donald     Duck\n",
      "2    3.0  16.0    NaN     -     -     -    65    69    72      Mini    Mouse\n",
      "3    4.0   NaN  78kgs    78    79    72     -     -     -   Scrooge   McDuck\n",
      "4    5.0  54.0  90kgs     -     -     -    69   NaN    75      Pink  Panther\n",
      "5    6.0  52.0  85kgs     -     -     -    68    75    72      Huey   McDuck\n",
      "6    7.0  19.0  56kgs     -     -     -    71    78    75     Dewey   McDuck\n",
      "7    8.0  32.0  78kgs    78    76    75     -     -     -    Scööpy      Doo\n",
      "8    NaN   NaN    NaN   NaN   NaN   NaN   NaN   NaN   NaN       NaN      NaN\n",
      "9    NaN   NaN    NaN   NaN   NaN   NaN   NaN   NaN   NaN       NaN      NaN\n",
      "10   NaN   NaN    NaN   NaN   NaN   NaN   NaN   NaN   NaN       NaN      NaN\n",
      "11   9.0  52.0  85kgs     -     -     -    68    75    72      Huey   McDuck\n",
      "12  10.0  12.0  45kgs     -     -     -    92    95    87     Louie   McDuck\n",
      "13  11.0   NaN  60kgs    78    75    72     -     -     -     Henry      Nam\n",
      "14  12.0  34.0    NaN    65    67    55     -     -     -    Michel     Long\n",
      "15  13.0   NaN    NaN     -     -     -    68    72    70      Tana    Ricky\n",
      "16  14.0   NaN    NaN   NaN   NaN   NaN   NaN   NaN   NaN  UniLever     None\n",
      "17  15.0  52.0  81kgs     -     -     -    68    75    72       NaN      NaN\n"
     ]
    }
   ],
   "source": [
    "#Sử dụng vòng lặp for duyệt qua từng phần tử trong cột weight\n",
    "for i in range (0, len(weight)):\n",
    "    x = str(weight[i])\n",
    "\n",
    "    if \"lbs\" in x[-3:]: #Nếu chuỗi kết thúc bằng 'lbs' - 3 kí tự từ cuối \n",
    "\n",
    "        # Gán lại x khi đã loại bỏ 3 kí tự đó\n",
    "        x = x[:-3:]\n",
    "        #Chuyển đổi x sang số thực\n",
    "        float_x = float(x)\n",
    "        # Tính toán để chuyển giá trị đơn vị từ pounds sang kgs\n",
    "        y = int(float_x/2.2)\n",
    "\n",
    "        # kết quả sẽ được chuyển đổi lại sang dạng chuỗi và thêm đơn vị'kgs'\n",
    "        y = str(y)+\"kgs\"\n",
    "        \n",
    "        # Gán lại giá trị vào biến weight \n",
    "        weight[i] = y\n",
    "print(df)"
   ]
  },
  {
   "cell_type": "markdown",
   "metadata": {},
   "source": [
    "**Vấn đề 4:** Vấn đề về xuất hiện dòng dữ liệu rỗng (không có giá trị: NaN). Giải pháp có thể đưa ra là xóa bỏ"
   ]
  },
  {
   "cell_type": "code",
   "execution_count": 50,
   "metadata": {},
   "outputs": [
    {
     "name": "stdout",
     "output_type": "stream",
     "text": [
      "      Id   Age Weight m0006 m0612 m1218 f0006 f0612 f1218 Firstname Lastname\n",
      "0    1.0  56.0  70kgs    72    69    71     -     -     -    Mickéy    Mousé\n",
      "1    2.0  34.0  70kgs     -     -     -    85    84    76    Donald     Duck\n",
      "2    3.0  16.0    NaN     -     -     -    65    69    72      Mini    Mouse\n",
      "3    4.0   NaN  78kgs    78    79    72     -     -     -   Scrooge   McDuck\n",
      "4    5.0  54.0  90kgs     -     -     -    69   NaN    75      Pink  Panther\n",
      "5    6.0  52.0  85kgs     -     -     -    68    75    72      Huey   McDuck\n",
      "6    7.0  19.0  56kgs     -     -     -    71    78    75     Dewey   McDuck\n",
      "7    8.0  32.0  78kgs    78    76    75     -     -     -    Scööpy      Doo\n",
      "11   9.0  52.0  85kgs     -     -     -    68    75    72      Huey   McDuck\n",
      "12  10.0  12.0  45kgs     -     -     -    92    95    87     Louie   McDuck\n",
      "13  11.0   NaN  60kgs    78    75    72     -     -     -     Henry      Nam\n",
      "14  12.0  34.0    NaN    65    67    55     -     -     -    Michel     Long\n",
      "15  13.0   NaN    NaN     -     -     -    68    72    70      Tana    Ricky\n",
      "16  14.0   NaN    NaN   NaN   NaN   NaN   NaN   NaN   NaN  UniLever     None\n",
      "17  15.0  52.0  81kgs     -     -     -    68    75    72       NaN      NaN\n"
     ]
    }
   ],
   "source": [
    "# Loại bỏ các dòng dữ liệu rỗng trong DataFrame\n",
    "df=df.dropna(how=\"all\", inplace=False)\n",
    "    # Xóa dòng nếu tất cả dữ liệu của dòng đó đều là NaN\n",
    "    # how=\"all\" : chỉ những dòng toàn bộ dữ liệu là NaN thì mới xóa\n",
    "print(df)"
   ]
  },
  {
   "cell_type": "markdown",
   "metadata": {},
   "source": [
    "**Vấn đề 5:** Có nhiều dòng dữ liệu bị trùng lắp thông tin hoàn toàn[fullname, lastname, age, weight,....], giải pháp đưa ra là chỉ giữ lại một dòng dữ liệu, tuy nhiên giải pháp phải dựa trên nghiệp vụ của tập dữ liệu và quan sát của người xử lý"
   ]
  },
  {
   "cell_type": "code",
   "execution_count": 51,
   "metadata": {},
   "outputs": [
    {
     "name": "stdout",
     "output_type": "stream",
     "text": [
      "      Id   Age Weight m0006 m0612 m1218 f0006 f0612 f1218 Firstname Lastname\n",
      "0    1.0  56.0  70kgs    72    69    71     -     -     -    Mickéy    Mousé\n",
      "1    2.0  34.0  70kgs     -     -     -    85    84    76    Donald     Duck\n",
      "2    3.0  16.0    NaN     -     -     -    65    69    72      Mini    Mouse\n",
      "3    4.0   NaN  78kgs    78    79    72     -     -     -   Scrooge   McDuck\n",
      "4    5.0  54.0  90kgs     -     -     -    69   NaN    75      Pink  Panther\n",
      "5    6.0  52.0  85kgs     -     -     -    68    75    72      Huey   McDuck\n",
      "6    7.0  19.0  56kgs     -     -     -    71    78    75     Dewey   McDuck\n",
      "7    8.0  32.0  78kgs    78    76    75     -     -     -    Scööpy      Doo\n",
      "12  10.0  12.0  45kgs     -     -     -    92    95    87     Louie   McDuck\n",
      "13  11.0   NaN  60kgs    78    75    72     -     -     -     Henry      Nam\n",
      "14  12.0  34.0    NaN    65    67    55     -     -     -    Michel     Long\n",
      "15  13.0   NaN    NaN     -     -     -    68    72    70      Tana    Ricky\n",
      "16  14.0   NaN    NaN   NaN   NaN   NaN   NaN   NaN   NaN  UniLever     None\n",
      "17  15.0  52.0  81kgs     -     -     -    68    75    72       NaN      NaN\n"
     ]
    }
   ],
   "source": [
    "#Loại bỏ trùng lặp trong data\n",
    "df = df.drop_duplicates(subset=['Firstname','Lastname', 'Age', 'Weight'], inplace=False)\n",
    "print(df)"
   ]
  },
  {
   "cell_type": "markdown",
   "metadata": {},
   "source": [
    "**Vấn đề 6:** Xuất hiện dữ liệu bị ảnh hưởng bởi lỗi non-ASCII, không định dạng ASCII. Giải pháp: Tùy vào nghiệp vụ ta có thể: xóa dữ liệu tại đó, thay thế bằng dữ liệu khác hoặc thay bằng việc đánh dấu bằng một kí tự khác (ví dụ: \"warning\")"
   ]
  },
  {
   "cell_type": "code",
   "execution_count": 52,
   "metadata": {},
   "outputs": [],
   "source": [
    "#Xử lý các ký tự non-ASCII tại 2 cột Firstname và Lastname\n",
    "df['Firstname'] = df.Firstname.replace({r'[^\\x00-\\x7F]+':''}, regex=True, inplace=False)\n",
    "df['Lastname'] = df.Lastname.replace({r'[^\\x00-\\x7F]+':''}, regex=True, inplace=False)"
   ]
  },
  {
   "cell_type": "code",
   "execution_count": 53,
   "metadata": {},
   "outputs": [
    {
     "name": "stdout",
     "output_type": "stream",
     "text": [
      "      Id   Age Weight m0006 m0612 m1218 f0006 f0612 f1218 Firstname Lastname\n",
      "0    1.0  56.0  70kgs    72    69    71     -     -     -     Micky     Mous\n",
      "1    2.0  34.0  70kgs     -     -     -    85    84    76    Donald     Duck\n",
      "2    3.0  16.0    NaN     -     -     -    65    69    72      Mini    Mouse\n",
      "3    4.0   NaN  78kgs    78    79    72     -     -     -   Scrooge   McDuck\n",
      "4    5.0  54.0  90kgs     -     -     -    69   NaN    75      Pink  Panther\n",
      "5    6.0  52.0  85kgs     -     -     -    68    75    72      Huey   McDuck\n",
      "6    7.0  19.0  56kgs     -     -     -    71    78    75     Dewey   McDuck\n",
      "7    8.0  32.0  78kgs    78    76    75     -     -     -      Scpy      Doo\n",
      "12  10.0  12.0  45kgs     -     -     -    92    95    87     Louie   McDuck\n",
      "13  11.0   NaN  60kgs    78    75    72     -     -     -     Henry      Nam\n",
      "14  12.0  34.0    NaN    65    67    55     -     -     -    Michel     Long\n",
      "15  13.0   NaN    NaN     -     -     -    68    72    70      Tana    Ricky\n",
      "16  14.0   NaN    NaN   NaN   NaN   NaN   NaN   NaN   NaN  UniLever     None\n",
      "17  15.0  52.0  81kgs     -     -     -    68    75    72       NaN      NaN\n"
     ]
    }
   ],
   "source": [
    "# In dữ liệu\n",
    "print(df)"
   ]
  },
  {
   "cell_type": "markdown",
   "metadata": {},
   "source": [
    "**Vấn đề 7:**  \"Missing values\", vấn đề này xảy ra tại các cột \"Age\", \"Weight\" và \"Heart Rate\". Thiếu dữ liệu (dữ liệu không đầy đủ) là vấn đề xảy ra nhiều trong các nguồn dữ liệu do nhiều nguyên nhân chủ quan lẫn khách quan.Có một vài giải pháp để xử lý vấn đề: \n",
    "* Deletion: Remove records with missing values\n",
    "* Dummy substitution: Replace missing values with a dummy but valid value: \n",
    "e.g.: 0 for numerical values.\n",
    "* Mean substitution: Replace the missing values with the mean.\n",
    "* Frequent substitution: Replace the missing values with the most frequent item.\n",
    "* Improve the data collector: Your business folk will talk to the clients and inform them about why it is worth fixing the problem with the data collector."
   ]
  },
  {
   "cell_type": "markdown",
   "metadata": {},
   "source": [
    "1. Thống kê thông tin dữ liệu thiếu trên từng biến Age và Weight "
   ]
  },
  {
   "cell_type": "code",
   "execution_count": 54,
   "metadata": {},
   "outputs": [],
   "source": [
    "# Thống kê dữ liệu thiếu trên Age:\n",
    "df_missing_age = df['Age'].isna().sum()\n",
    "    # df['Age'].isna(): xét trên cột Age, nếu dữ liệu là NaN: True, ngược lại là False\n",
    "    # sum(): đếm tổng số giá trị True"
   ]
  },
  {
   "cell_type": "code",
   "execution_count": 55,
   "metadata": {},
   "outputs": [],
   "source": [
    "# Thống kê dữ liệu thiếu trên Weight:\n",
    "df_missing_weight = df['Weight'].isna().sum()"
   ]
  },
  {
   "cell_type": "code",
   "execution_count": 56,
   "metadata": {},
   "outputs": [
    {
     "name": "stdout",
     "output_type": "stream",
     "text": [
      "4\n"
     ]
    }
   ],
   "source": [
    "# In ra thống kê\n",
    "print(df_missing_age)"
   ]
  },
  {
   "cell_type": "code",
   "execution_count": 57,
   "metadata": {},
   "outputs": [
    {
     "data": {
      "text/plain": [
       "4"
      ]
     },
     "execution_count": 57,
     "metadata": {},
     "output_type": "execute_result"
    }
   ],
   "source": [
    "df_missing_weight"
   ]
  },
  {
   "cell_type": "markdown",
   "metadata": {},
   "source": [
    "2. Yêu cầu xử lý dữ liệu thiếu như sau: Nếu dòng nào có Age hoặc Weight có dữ liệu thì phần Age hoặc Weight được tính như bên dưới, nếu thiếu cả 2 thông tin thì xóa dòng\n",
    "    \n",
    "    * Age: Giá trị thay thế là mean của các giá trị trong cột Age"
   ]
  },
  {
   "cell_type": "code",
   "execution_count": 58,
   "metadata": {},
   "outputs": [],
   "source": [
    "# Xóa các dòng thiếu cả hai thông tin Age và Weight\n",
    "df.dropna(subset=['Age', 'Weight'], how='all', inplace=True)"
   ]
  },
  {
   "cell_type": "code",
   "execution_count": 59,
   "metadata": {},
   "outputs": [],
   "source": [
    "# Thay thế giá trị thiếu trong cột Age bằng giá trị trung bình\n",
    "df['Age'] = df['Age'].fillna(df['Age'].mean())"
   ]
  },
  {
   "cell_type": "code",
   "execution_count": 60,
   "metadata": {},
   "outputs": [
    {
     "name": "stdout",
     "output_type": "stream",
     "text": [
      "      Id   Age Weight m0006 m0612 m1218 f0006 f0612 f1218 Firstname Lastname\n",
      "0    1.0  56.0  70kgs    72    69    71     -     -     -     Micky     Mous\n",
      "1    2.0  34.0  70kgs     -     -     -    85    84    76    Donald     Duck\n",
      "2    3.0  16.0    NaN     -     -     -    65    69    72      Mini    Mouse\n",
      "3    4.0  36.1  78kgs    78    79    72     -     -     -   Scrooge   McDuck\n",
      "4    5.0  54.0  90kgs     -     -     -    69   NaN    75      Pink  Panther\n",
      "5    6.0  52.0  85kgs     -     -     -    68    75    72      Huey   McDuck\n",
      "6    7.0  19.0  56kgs     -     -     -    71    78    75     Dewey   McDuck\n",
      "7    8.0  32.0  78kgs    78    76    75     -     -     -      Scpy      Doo\n",
      "12  10.0  12.0  45kgs     -     -     -    92    95    87     Louie   McDuck\n",
      "13  11.0  36.1  60kgs    78    75    72     -     -     -     Henry      Nam\n",
      "14  12.0  34.0    NaN    65    67    55     -     -     -    Michel     Long\n",
      "17  15.0  52.0  81kgs     -     -     -    68    75    72       NaN      NaN\n"
     ]
    }
   ],
   "source": [
    "print(df)"
   ]
  },
  {
   "cell_type": "code",
   "execution_count": 61,
   "metadata": {},
   "outputs": [],
   "source": [
    "# Loại bỏ đơn vị 'kgs' từ các giá trị trong cột Weight và chuyển đổi sang numeric\n",
    "df['Weight'] = df['Weight'].str.replace('kgs', '').astype(float)"
   ]
  },
  {
   "cell_type": "code",
   "execution_count": 62,
   "metadata": {},
   "outputs": [],
   "source": [
    "# Thay thế giá trị thiếu trong cột Weigh bằng giá trị trung bình\n",
    "df['Weight'] = df['Weight'].fillna(df['Weight'].mean())"
   ]
  },
  {
   "cell_type": "code",
   "execution_count": 63,
   "metadata": {},
   "outputs": [],
   "source": [
    "# Chuyển đổi các giá trị từ float sang str và thêm 'kgs'\n",
    "df['Weight'] = df['Weight'].astype(str) + 'kgs'"
   ]
  },
  {
   "cell_type": "code",
   "execution_count": 64,
   "metadata": {},
   "outputs": [
    {
     "name": "stdout",
     "output_type": "stream",
     "text": [
      "      Id   Age   Weight m0006 m0612 m1218 f0006 f0612 f1218 Firstname Lastname\n",
      "0    1.0  56.0  70.0kgs    72    69    71     -     -     -     Micky     Mous\n",
      "1    2.0  34.0  70.0kgs     -     -     -    85    84    76    Donald     Duck\n",
      "2    3.0  16.0  71.3kgs     -     -     -    65    69    72      Mini    Mouse\n",
      "3    4.0  36.1  78.0kgs    78    79    72     -     -     -   Scrooge   McDuck\n",
      "4    5.0  54.0  90.0kgs     -     -     -    69   NaN    75      Pink  Panther\n",
      "5    6.0  52.0  85.0kgs     -     -     -    68    75    72      Huey   McDuck\n",
      "6    7.0  19.0  56.0kgs     -     -     -    71    78    75     Dewey   McDuck\n",
      "7    8.0  32.0  78.0kgs    78    76    75     -     -     -      Scpy      Doo\n",
      "12  10.0  12.0  45.0kgs     -     -     -    92    95    87     Louie   McDuck\n",
      "13  11.0  36.1  60.0kgs    78    75    72     -     -     -     Henry      Nam\n",
      "14  12.0  34.0  71.3kgs    65    67    55     -     -     -    Michel     Long\n",
      "17  15.0  52.0  81.0kgs     -     -     -    68    75    72       NaN      NaN\n"
     ]
    }
   ],
   "source": [
    "print(df)"
   ]
  },
  {
   "cell_type": "markdown",
   "metadata": {},
   "source": [
    "**Vấn đề 8:** một cột chứa quá nhiều thông tin cần được phân rã, như trong bài toán này ta thấy header \"m0006\" chứa các nội dung bao gồm: m -> male, 1218 ~ 12-18 (mm-dd). Còn giá trị thì là kết quả huyết áp"
   ]
  },
  {
   "cell_type": "markdown",
   "metadata": {},
   "source": [
    "Chúng ta sẽ tách nội dung của cột này ra làm 3 cột sau: PulseRate : giá trị huyết áp, Sex: giới tính ( m: male, f: female) và time: thời gian (tháng-ngày)"
   ]
  },
  {
   "cell_type": "code",
   "execution_count": 65,
   "metadata": {},
   "outputs": [],
   "source": [
    "df = pd.melt(df, id_vars=['Id', 'Age', 'Weight', 'Firstname', 'Lastname'], value_name=\"PulseRate\", var_name=\"sex_and_time\").sort_values(['Id', 'Age', 'Weight', 'Firstname', 'Lastname'])\n",
    "# id_vars=['Id', 'Age', 'Weight', 'Firstname', 'Lastname']: chỉ định các cột để giữ làm các nhân tố nhận dạng\n",
    "# value_name=\"PulseRate\": đặt tên cho cột giá trị.\n",
    "# var_name=\"sex_and_time\": đặt tên cho cột biến."
   ]
  },
  {
   "cell_type": "code",
   "execution_count": 66,
   "metadata": {},
   "outputs": [],
   "source": [
    "# Trích xuất thông tin từ cột 'sex_and_time'\n",
    "tmp_df = df[\"sex_and_time\"].str.extract(\"(\\D)(\\d+)(\\d{2})\", expand=True)\n",
    "    #(\\D): các ký tự không phải số (giới tính)\n",
    "    #(\\d+): số giờ.\n",
    "    #(\\d{2}): số phút\n",
    "    # expand=True: trả về DataFrame thay vì chuỗi"
   ]
  },
  {
   "cell_type": "code",
   "execution_count": 67,
   "metadata": {},
   "outputs": [],
   "source": [
    "# Đặt tên lần lượt cho các cột\n",
    "tmp_df.columns = [\"Sex\", \"hours_lower\", \"hours_upper\"]"
   ]
  },
  {
   "cell_type": "code",
   "execution_count": 68,
   "metadata": {},
   "outputs": [],
   "source": [
    "# Tạo một cột mới Time bằng cách kết hợp 'hours_lower' và 'hours_upper'\n",
    "tmp_df[\"Time\"] = tmp_df[\"hours_lower\"] + \"-\" + tmp_df[\"hours_upper\"]"
   ]
  },
  {
   "cell_type": "code",
   "execution_count": 69,
   "metadata": {},
   "outputs": [],
   "source": [
    "# Ghép tmp_df vào df để thêm thông tin giới tính, giờ và phút vào DataFrame ban đầu.\n",
    "df = pd.concat([df, tmp_df], axis=1)"
   ]
  },
  {
   "cell_type": "code",
   "execution_count": 70,
   "metadata": {},
   "outputs": [],
   "source": [
    "# Loại bỏ các cột sex_and_time, hours_lower, và hours_upper\n",
    "df = df.drop(['sex_and_time', 'hours_lower', 'hours_upper'], axis=1)\n",
    "\n",
    "# Loại bỏ hàng trong DataFrame có giá trị NaN\n",
    "df = df.dropna()"
   ]
  },
  {
   "cell_type": "code",
   "execution_count": 71,
   "metadata": {},
   "outputs": [],
   "source": [
    "# Lưu file csv\n",
    "df.to_csv('outputcleanup.csv', index=False)"
   ]
  },
  {
   "cell_type": "code",
   "execution_count": 72,
   "metadata": {},
   "outputs": [
    {
     "name": "stdout",
     "output_type": "stream",
     "text": [
      "      Id   Age   Weight Firstname Lastname PulseRate Sex   Time\n",
      "0    1.0  56.0  70.0kgs     Micky     Mous        72   m  00-06\n",
      "12   1.0  56.0  70.0kgs     Micky     Mous        69   m  06-12\n",
      "24   1.0  56.0  70.0kgs     Micky     Mous        71   m  12-18\n",
      "36   1.0  56.0  70.0kgs     Micky     Mous         -   f  00-06\n",
      "48   1.0  56.0  70.0kgs     Micky     Mous         -   f  06-12\n",
      "..   ...   ...      ...       ...      ...       ...  ..    ...\n",
      "22  12.0  34.0  71.3kgs    Michel     Long        67   m  06-12\n",
      "34  12.0  34.0  71.3kgs    Michel     Long        55   m  12-18\n",
      "46  12.0  34.0  71.3kgs    Michel     Long         -   f  00-06\n",
      "58  12.0  34.0  71.3kgs    Michel     Long         -   f  06-12\n",
      "70  12.0  34.0  71.3kgs    Michel     Long         -   f  12-18\n",
      "\n",
      "[65 rows x 8 columns]\n"
     ]
    }
   ],
   "source": [
    "print(df)"
   ]
  },
  {
   "cell_type": "markdown",
   "metadata": {},
   "source": [
    "**Vấn đề 9:** Khảo sát tỉ lệ dữ liệu thiếu trên biến huyết áp"
   ]
  },
  {
   "cell_type": "markdown",
   "metadata": {},
   "source": [
    "1. Khảo sát tỉ lệ dữ liệu thiếu trên biến huyết áp"
   ]
  },
  {
   "cell_type": "code",
   "execution_count": 73,
   "metadata": {},
   "outputs": [],
   "source": [
    "def fill_missing_bp(data): #Khai báo hàm, chứa dữ liệu về nhịp tim\n",
    "    # Duyệt qua từng chỉ số trong DataFrame\n",
    "    for i in data.index:\n",
    "        if pd.isna(data.at[i, 'PulseRate']): #Kiểm tra giá trị tại hàng i và cột PulseRate có bị thiếu không (trả về True nếu bị thiếu)\n",
    "            # 1. Trung bình của giá trị liền trước và liền sau\n",
    "            if i > 0 and i < max(data.index) and not pd.isna(data.at[i-1, 'PulseRate']) and not pd.isna(data.at[i+1, 'PulseRate']):\n",
    "                data.at[i, 'PulseRate'] = (data.at[i-1, 'PulseRate'] + data.at[i+1, 'PulseRate']) / 2\n",
    "                '''Nếu chỉ số i lớn hơn 0 (có giá trị liền trước) và nhỏ hơn giá trị chỉ số lớn nhất \n",
    "                (có giá trị liền sau), và cả hai giá trị liền trước (i-1) và liền sau (i+1) đều không thiếu,\n",
    "                  thì thay thế giá trị thiếu bằng trung bình của hai giá trị này.'''\n",
    "            # 2. Trung bình của hai giá trị liền trước\n",
    "            elif i > 1 and not pd.isna(data.at[i-2, 'PulseRate']) and not pd.isna(data.at[i-1, 'PulseRate']):\n",
    "                data.at[i, 'PulseRate'] = (data.at[i-2, 'PulseRate'] + data.at[i-1, 'PulseRate']) / 2\n",
    "            # 3. Trung bình của hai giá trị liền sau\n",
    "            elif i < max(data.index)-1 and not pd.isna(data.at[i+1, 'PulseRate']) and not pd.isna(data.at[i+2, 'PulseRate']):\n",
    "                data.at[i, 'PulseRate'] = (data.at[i+1, 'PulseRate'] + data.at[i+2, 'PulseRate']) / 2\n",
    "            # 4. Trung bình của các giá trị của người đó\n",
    "            elif 'PersonID' in data.columns and not data[data['PersonID'] == data.at[i, 'PersonID']]['PulseRate'].dropna().empty:\n",
    "                data.at[i, 'PulseRate'] = data[data['PersonID'] == data.at[i, 'PersonID']]['PulseRate'].mean()\n",
    "            # 5. Trung bình của các giá trị của nhóm giới tính\n",
    "            elif 'Gender' in data.columns and not data[data['Gender'] == data.at[i, 'Gender']]['PulseRate'].dropna().empty:\n",
    "                data.at[i, 'PulseRate'] = data[data['Gender'] == data.at[i, 'Gender']]['PulseRate'].mean()\n",
    "            # 6. Trung bình của toàn bộ dữ liệu\n",
    "            elif data['PulseRate'].notna().any():\n",
    "                data.at[i, 'PulseRate'] = data['PulseRate'].mean()\n",
    "            # 7. Giá trị ổn định trong y học\n",
    "            else:\n",
    "                data.at[i, 'PulseRate'] = 120  # Giá trị ổn định trong y học\n",
    "    return data"
   ]
  },
  {
   "cell_type": "code",
   "execution_count": 74,
   "metadata": {},
   "outputs": [
    {
     "name": "stdout",
     "output_type": "stream",
     "text": [
      "      Id   Age   Weight Firstname Lastname PulseRate Sex   Time\n",
      "0    1.0  56.0  70.0kgs     Micky     Mous        72   m  00-06\n",
      "12   1.0  56.0  70.0kgs     Micky     Mous        69   m  06-12\n",
      "24   1.0  56.0  70.0kgs     Micky     Mous        71   m  12-18\n",
      "36   1.0  56.0  70.0kgs     Micky     Mous         -   f  00-06\n",
      "48   1.0  56.0  70.0kgs     Micky     Mous         -   f  06-12\n",
      "..   ...   ...      ...       ...      ...       ...  ..    ...\n",
      "22  12.0  34.0  71.3kgs    Michel     Long        67   m  06-12\n",
      "34  12.0  34.0  71.3kgs    Michel     Long        55   m  12-18\n",
      "46  12.0  34.0  71.3kgs    Michel     Long         -   f  00-06\n",
      "58  12.0  34.0  71.3kgs    Michel     Long         -   f  06-12\n",
      "70  12.0  34.0  71.3kgs    Michel     Long         -   f  12-18\n",
      "\n",
      "[65 rows x 8 columns]\n"
     ]
    }
   ],
   "source": [
    "# Gọi hàm fill_missing_bp để xử lý các giá trị thiếu\n",
    "df = fill_missing_bp(df)\n",
    "\n",
    "print(df)"
   ]
  },
  {
   "cell_type": "markdown",
   "metadata": {},
   "source": [
    "**Vấn đề 10:** Rút gọn dữ liệu phù hợp và reindex lại dữ liệu. Sau đó, lưu trữ dữ liệu đã xử lý thành công với tên file patient_heart_rate_clean.csv"
   ]
  },
  {
   "cell_type": "code",
   "execution_count": 75,
   "metadata": {},
   "outputs": [
    {
     "data": {
      "text/plain": [
       "'patient_heart_rate_clean.csv'"
      ]
     },
     "execution_count": 75,
     "metadata": {},
     "output_type": "execute_result"
    }
   ],
   "source": [
    "# Chọn các cột liên quan, chỉ giữ lại các cột có tên 'Id', 'Age', 'Weight', 'Firstname', 'PulseRate'\n",
    "df = df[['Id', 'Age', 'Weight', 'Firstname', 'PulseRate']] \n",
    "\n",
    "# Loại bỏ các hàng có giá trị thiếu \n",
    "df = df.dropna()\n",
    "    # dropna(): loại bỏ tất cả các hàng có ít nhất một giá trị thiếu trong bất kỳ cột nào.\n",
    "\n",
    "# Đánh lại chỉ số của DataFrame\n",
    "df.reset_index(drop=True, inplace=True)\n",
    "    #drop=True: đảm bảo rằng chỉ số cũ không được giữ lại như một cột mới.\n",
    "\n",
    "# Lưu dữ liệu \n",
    "cleaned_file_path = 'patient_heart_rate_clean.csv'\n",
    "df.to_csv(cleaned_file_path, index=False)\n",
    "\n",
    "#Trả về đường dẫn file đã lưu\n",
    "cleaned_file_path"
   ]
  }
 ],
 "metadata": {
  "kernelspec": {
   "display_name": "Python 3",
   "language": "python",
   "name": "python3"
  },
  "language_info": {
   "codemirror_mode": {
    "name": "ipython",
    "version": 3
   },
   "file_extension": ".py",
   "mimetype": "text/x-python",
   "name": "python",
   "nbconvert_exporter": "python",
   "pygments_lexer": "ipython3",
   "version": "3.10.0"
  }
 },
 "nbformat": 4,
 "nbformat_minor": 2
}
